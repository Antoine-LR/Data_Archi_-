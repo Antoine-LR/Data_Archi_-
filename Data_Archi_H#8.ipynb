{
 "cells": [
  {
   "cell_type": "markdown",
   "id": "95fd05ac",
   "metadata": {},
   "source": [
    "## AirBnB"
   ]
  },
  {
   "cell_type": "code",
   "execution_count": 1,
   "id": "41393727",
   "metadata": {},
   "outputs": [],
   "source": [
    "import numpy as np\n",
    "import pandas as pd\n",
    "import matplotlib.pyplot as plt\n",
    "import seaborn as sns\n",
    "import requests\n",
    "\n",
    "# Preprocessing\n",
    "from sklearn.impute import SimpleImputer, KNNImputer\n",
    "from sklearn.preprocessing import RobustScaler, StandardScaler, MinMaxScaler, QuantileTransformer, OneHotEncoder, FunctionTransformer\n",
    "\n",
    "# Models\n",
    "from sklearn.linear_model import Ridge\n",
    "from sklearn.model_selection import cross_val_score\n",
    "\n",
    "# Pipeline\n",
    "from sklearn.pipeline import Pipeline\n",
    "from sklearn.compose import ColumnTransformer, make_column_selector\n",
    "from sklearn import set_config; set_config(display='diagram')\n",
    "\n",
    "# Custom Transformer \n",
    "from sklearn.base import TransformerMixin, BaseEstimator\n",
    "\n",
    "# Metrics\n",
    "from sklearn.metrics import make_scorer, mean_squared_error"
   ]
  },
  {
   "cell_type": "code",
   "execution_count": 2,
   "id": "beb5e8a4",
   "metadata": {},
   "outputs": [
    {
     "name": "stderr",
     "output_type": "stream",
     "text": [
      "C:\\Users\\perso\\anaconda3\\lib\\site-packages\\IPython\\core\\interactiveshell.py:3165: DtypeWarning: Columns (4) have mixed types.Specify dtype option on import or set low_memory=False.\n",
      "  has_raised = await self.run_ast_nodes(code_ast.body, cell_name,\n"
     ]
    },
    {
     "data": {
      "text/html": [
       "<div>\n",
       "<style scoped>\n",
       "    .dataframe tbody tr th:only-of-type {\n",
       "        vertical-align: middle;\n",
       "    }\n",
       "\n",
       "    .dataframe tbody tr th {\n",
       "        vertical-align: top;\n",
       "    }\n",
       "\n",
       "    .dataframe thead th {\n",
       "        text-align: right;\n",
       "    }\n",
       "</style>\n",
       "<table border=\"1\" class=\"dataframe\">\n",
       "  <thead>\n",
       "    <tr style=\"text-align: right;\">\n",
       "      <th></th>\n",
       "      <th>id</th>\n",
       "      <th>name</th>\n",
       "      <th>host_id</th>\n",
       "      <th>host_name</th>\n",
       "      <th>neighbourhood_group</th>\n",
       "      <th>neighbourhood</th>\n",
       "      <th>latitude</th>\n",
       "      <th>longitude</th>\n",
       "      <th>room_type</th>\n",
       "      <th>price</th>\n",
       "      <th>minimum_nights</th>\n",
       "      <th>number_of_reviews</th>\n",
       "      <th>last_review</th>\n",
       "      <th>reviews_per_month</th>\n",
       "      <th>calculated_host_listings_count</th>\n",
       "      <th>availability_365</th>\n",
       "      <th>city</th>\n",
       "    </tr>\n",
       "  </thead>\n",
       "  <tbody>\n",
       "    <tr>\n",
       "      <th>0</th>\n",
       "      <td>38585</td>\n",
       "      <td>Charming Victorian home - twin beds + breakfast</td>\n",
       "      <td>165529</td>\n",
       "      <td>Evelyne</td>\n",
       "      <td>NaN</td>\n",
       "      <td>28804</td>\n",
       "      <td>35.65146</td>\n",
       "      <td>-82.62792</td>\n",
       "      <td>Private room</td>\n",
       "      <td>60</td>\n",
       "      <td>1</td>\n",
       "      <td>138</td>\n",
       "      <td>16/02/20</td>\n",
       "      <td>1.14</td>\n",
       "      <td>1</td>\n",
       "      <td>0</td>\n",
       "      <td>Asheville</td>\n",
       "    </tr>\n",
       "  </tbody>\n",
       "</table>\n",
       "</div>"
      ],
      "text/plain": [
       "      id                                             name  host_id host_name  \\\n",
       "0  38585  Charming Victorian home - twin beds + breakfast   165529   Evelyne   \n",
       "\n",
       "  neighbourhood_group neighbourhood  latitude  longitude     room_type  price  \\\n",
       "0                 NaN         28804  35.65146  -82.62792  Private room     60   \n",
       "\n",
       "   minimum_nights  number_of_reviews last_review  reviews_per_month  \\\n",
       "0               1                138    16/02/20               1.14   \n",
       "\n",
       "   calculated_host_listings_count  availability_365       city  \n",
       "0                               1                 0  Asheville  "
      ]
     },
     "execution_count": 2,
     "metadata": {},
     "output_type": "execute_result"
    }
   ],
   "source": [
    "df = pd.read_csv('AB_US_2020.csv')\n",
    "df.head(1)"
   ]
  },
  {
   "cell_type": "code",
   "execution_count": 3,
   "id": "f3e1b2a6",
   "metadata": {},
   "outputs": [
    {
     "data": {
      "text/plain": [
       "226030"
      ]
     },
     "execution_count": 3,
     "metadata": {},
     "output_type": "execute_result"
    }
   ],
   "source": [
    "len(df)"
   ]
  },
  {
   "cell_type": "code",
   "execution_count": 4,
   "id": "040543d4",
   "metadata": {},
   "outputs": [
    {
     "data": {
      "text/plain": [
       "int64      7\n",
       "object     7\n",
       "float64    3\n",
       "dtype: int64"
      ]
     },
     "execution_count": 4,
     "metadata": {},
     "output_type": "execute_result"
    }
   ],
   "source": [
    "df.dtypes.value_counts()"
   ]
  },
  {
   "cell_type": "code",
   "execution_count": 5,
   "id": "7a57d240",
   "metadata": {},
   "outputs": [
    {
     "data": {
      "text/plain": [
       "id                                 0.000000\n",
       "name                               0.012388\n",
       "host_id                            0.000000\n",
       "host_name                          0.014600\n",
       "neighbourhood_group               51.252046\n",
       "neighbourhood                      0.000000\n",
       "latitude                           0.000000\n",
       "longitude                          0.000000\n",
       "room_type                          0.000000\n",
       "price                              0.000000\n",
       "minimum_nights                     0.000000\n",
       "number_of_reviews                  0.000000\n",
       "last_review                       21.502455\n",
       "reviews_per_month                 21.502455\n",
       "calculated_host_listings_count     0.000000\n",
       "availability_365                   0.000000\n",
       "city                               0.000000\n",
       "dtype: float64"
      ]
     },
     "execution_count": 5,
     "metadata": {},
     "output_type": "execute_result"
    }
   ],
   "source": [
    "df.isna().sum()/len(df)*100"
   ]
  },
  {
   "cell_type": "code",
   "execution_count": 6,
   "id": "0f100dfe",
   "metadata": {},
   "outputs": [
    {
     "data": {
      "text/plain": [
       "1450"
      ]
     },
     "execution_count": 6,
     "metadata": {},
     "output_type": "execute_result"
    }
   ],
   "source": [
    "df.neighbourhood.nunique()"
   ]
  },
  {
   "cell_type": "code",
   "execution_count": 7,
   "id": "84203925",
   "metadata": {},
   "outputs": [],
   "source": [
    "df.drop(columns=['id','host_id','host_name','neighbourhood_group', 'neighbourhood'], inplace= True)"
   ]
  },
  {
   "cell_type": "code",
   "execution_count": 8,
   "id": "ae3c4a63",
   "metadata": {},
   "outputs": [
    {
     "data": {
      "text/html": [
       "<div>\n",
       "<style scoped>\n",
       "    .dataframe tbody tr th:only-of-type {\n",
       "        vertical-align: middle;\n",
       "    }\n",
       "\n",
       "    .dataframe tbody tr th {\n",
       "        vertical-align: top;\n",
       "    }\n",
       "\n",
       "    .dataframe thead th {\n",
       "        text-align: right;\n",
       "    }\n",
       "</style>\n",
       "<table border=\"1\" class=\"dataframe\">\n",
       "  <thead>\n",
       "    <tr style=\"text-align: right;\">\n",
       "      <th></th>\n",
       "      <th>name</th>\n",
       "      <th>latitude</th>\n",
       "      <th>longitude</th>\n",
       "      <th>room_type</th>\n",
       "      <th>price</th>\n",
       "      <th>minimum_nights</th>\n",
       "      <th>number_of_reviews</th>\n",
       "      <th>last_review</th>\n",
       "      <th>reviews_per_month</th>\n",
       "      <th>calculated_host_listings_count</th>\n",
       "      <th>availability_365</th>\n",
       "      <th>city</th>\n",
       "    </tr>\n",
       "  </thead>\n",
       "  <tbody>\n",
       "    <tr>\n",
       "      <th>0</th>\n",
       "      <td>Charming Victorian home - twin beds + breakfast</td>\n",
       "      <td>35.65146</td>\n",
       "      <td>-82.62792</td>\n",
       "      <td>Private room</td>\n",
       "      <td>60</td>\n",
       "      <td>1</td>\n",
       "      <td>138</td>\n",
       "      <td>16/02/20</td>\n",
       "      <td>1.14</td>\n",
       "      <td>1</td>\n",
       "      <td>0</td>\n",
       "      <td>Asheville</td>\n",
       "    </tr>\n",
       "  </tbody>\n",
       "</table>\n",
       "</div>"
      ],
      "text/plain": [
       "                                              name  latitude  longitude  \\\n",
       "0  Charming Victorian home - twin beds + breakfast  35.65146  -82.62792   \n",
       "\n",
       "      room_type  price  minimum_nights  number_of_reviews last_review  \\\n",
       "0  Private room     60               1                138    16/02/20   \n",
       "\n",
       "   reviews_per_month  calculated_host_listings_count  availability_365  \\\n",
       "0               1.14                               1                 0   \n",
       "\n",
       "        city  \n",
       "0  Asheville  "
      ]
     },
     "execution_count": 8,
     "metadata": {},
     "output_type": "execute_result"
    }
   ],
   "source": [
    "df.head(1)"
   ]
  },
  {
   "cell_type": "code",
   "execution_count": 9,
   "id": "ba3204c8",
   "metadata": {},
   "outputs": [
    {
     "data": {
      "text/plain": [
       "name                               object\n",
       "latitude                          float64\n",
       "longitude                         float64\n",
       "room_type                          object\n",
       "price                               int64\n",
       "minimum_nights                      int64\n",
       "number_of_reviews                   int64\n",
       "last_review                        object\n",
       "reviews_per_month                 float64\n",
       "calculated_host_listings_count      int64\n",
       "availability_365                    int64\n",
       "city                               object\n",
       "dtype: object"
      ]
     },
     "execution_count": 9,
     "metadata": {},
     "output_type": "execute_result"
    }
   ],
   "source": [
    "df.dtypes"
   ]
  },
  {
   "cell_type": "code",
   "execution_count": 10,
   "id": "30036697",
   "metadata": {},
   "outputs": [
    {
     "data": {
      "text/plain": [
       "int64      5\n",
       "object     4\n",
       "float64    3\n",
       "dtype: int64"
      ]
     },
     "execution_count": 10,
     "metadata": {},
     "output_type": "execute_result"
    }
   ],
   "source": [
    "df.dtypes.value_counts()"
   ]
  },
  {
   "cell_type": "code",
   "execution_count": 11,
   "id": "c3512ceb",
   "metadata": {},
   "outputs": [
    {
     "name": "stderr",
     "output_type": "stream",
     "text": [
      "C:\\Users\\perso\\anaconda3\\lib\\site-packages\\IPython\\core\\interactiveshell.py:3165: DtypeWarning: Columns (4) have mixed types.Specify dtype option on import or set low_memory=False.\n",
      "  has_raised = await self.run_ast_nodes(code_ast.body, cell_name,\n"
     ]
    }
   ],
   "source": [
    "df = pd.read_csv('AB_US_2020.csv')"
   ]
  },
  {
   "cell_type": "code",
   "execution_count": 12,
   "id": "b6a58bd2",
   "metadata": {},
   "outputs": [
    {
     "data": {
      "text/html": [
       "<div>\n",
       "<style scoped>\n",
       "    .dataframe tbody tr th:only-of-type {\n",
       "        vertical-align: middle;\n",
       "    }\n",
       "\n",
       "    .dataframe tbody tr th {\n",
       "        vertical-align: top;\n",
       "    }\n",
       "\n",
       "    .dataframe thead th {\n",
       "        text-align: right;\n",
       "    }\n",
       "</style>\n",
       "<table border=\"1\" class=\"dataframe\">\n",
       "  <thead>\n",
       "    <tr style=\"text-align: right;\">\n",
       "      <th></th>\n",
       "      <th>id</th>\n",
       "      <th>name</th>\n",
       "      <th>host_id</th>\n",
       "      <th>host_name</th>\n",
       "      <th>neighbourhood_group</th>\n",
       "      <th>neighbourhood</th>\n",
       "      <th>latitude</th>\n",
       "      <th>longitude</th>\n",
       "      <th>room_type</th>\n",
       "      <th>price</th>\n",
       "      <th>minimum_nights</th>\n",
       "      <th>number_of_reviews</th>\n",
       "      <th>last_review</th>\n",
       "      <th>reviews_per_month</th>\n",
       "      <th>calculated_host_listings_count</th>\n",
       "      <th>availability_365</th>\n",
       "      <th>city</th>\n",
       "    </tr>\n",
       "  </thead>\n",
       "  <tbody>\n",
       "    <tr>\n",
       "      <th>1231</th>\n",
       "      <td>32067034</td>\n",
       "      <td>Cozy Cottage on the Creek</td>\n",
       "      <td>134903005</td>\n",
       "      <td>Carolina Mornings</td>\n",
       "      <td>NaN</td>\n",
       "      <td>28804</td>\n",
       "      <td>35.64810</td>\n",
       "      <td>-82.62892</td>\n",
       "      <td>Entire home/apt</td>\n",
       "      <td>10000</td>\n",
       "      <td>1</td>\n",
       "      <td>0</td>\n",
       "      <td>NaN</td>\n",
       "      <td>NaN</td>\n",
       "      <td>18</td>\n",
       "      <td>83</td>\n",
       "      <td>Asheville</td>\n",
       "    </tr>\n",
       "    <tr>\n",
       "      <th>1845</th>\n",
       "      <td>42513939</td>\n",
       "      <td>Almost Heaven Too</td>\n",
       "      <td>303909632</td>\n",
       "      <td>Thomas</td>\n",
       "      <td>NaN</td>\n",
       "      <td>28704</td>\n",
       "      <td>35.46876</td>\n",
       "      <td>-82.50776</td>\n",
       "      <td>Entire home/apt</td>\n",
       "      <td>24999</td>\n",
       "      <td>2</td>\n",
       "      <td>5</td>\n",
       "      <td>09/08/20</td>\n",
       "      <td>1.55</td>\n",
       "      <td>4</td>\n",
       "      <td>253</td>\n",
       "      <td>Asheville</td>\n",
       "    </tr>\n",
       "  </tbody>\n",
       "</table>\n",
       "</div>"
      ],
      "text/plain": [
       "            id                       name    host_id          host_name  \\\n",
       "1231  32067034  Cozy Cottage on the Creek  134903005  Carolina Mornings   \n",
       "1845  42513939          Almost Heaven Too  303909632             Thomas   \n",
       "\n",
       "     neighbourhood_group neighbourhood  latitude  longitude        room_type  \\\n",
       "1231                 NaN         28804  35.64810  -82.62892  Entire home/apt   \n",
       "1845                 NaN         28704  35.46876  -82.50776  Entire home/apt   \n",
       "\n",
       "      price  minimum_nights  number_of_reviews last_review  reviews_per_month  \\\n",
       "1231  10000               1                  0         NaN                NaN   \n",
       "1845  24999               2                  5    09/08/20               1.55   \n",
       "\n",
       "      calculated_host_listings_count  availability_365       city  \n",
       "1231                              18                83  Asheville  \n",
       "1845                               4               253  Asheville  "
      ]
     },
     "execution_count": 12,
     "metadata": {},
     "output_type": "execute_result"
    }
   ],
   "source": [
    "# Strange prices\n",
    "strange = df[(df['price'] == 10000) | (df['price']==24999)]\n",
    "strange.head(2)"
   ]
  },
  {
   "cell_type": "code",
   "execution_count": 13,
   "id": "2c7c6d1c",
   "metadata": {},
   "outputs": [
    {
     "data": {
      "image/png": "[encoded data removed]",
      "text/plain": [
       "<Figure size 720x432 with 1 Axes>"
      ]
     },
     "metadata": {
      "needs_background": "light"
     },
     "output_type": "display_data"
    }
   ],
   "source": [
    "plt.figure(figsize=(10,6))\n",
    "sns.scatterplot(data=df, y='price', x=df.index)\n",
    "plt.scatter(strange.index,strange['price'], color='r', marker='*')\n",
    "plt.grid()"
   ]
  },
  {
   "cell_type": "code",
   "execution_count": 14,
   "id": "f286936f",
   "metadata": {},
   "outputs": [
    {
     "name": "stdout",
     "output_type": "stream",
     "text": [
      "Keeping 92.52% of the dataset\n"
     ]
    },
    {
     "data": {
      "image/png": "[encoded data removed]",
      "text/plain": [
       "<Figure size 1080x432 with 4 Axes>"
      ]
     },
     "metadata": {
      "needs_background": "light"
     },
     "output_type": "display_data"
    }
   ],
   "source": [
    "\n",
    "fig, ax = plt.subplots(2,2, figsize=(15,6))\n",
    "sns.boxplot(data=df, x='price', ax=ax[0,0])\n",
    "sns.kdeplot(data=df, x='price', ax=ax[1,0]);\n",
    "\n",
    "# Countering Outliers\n",
    "def quantile_selector(df, bounds):\n",
    "    df_reduced = df[df['price'].between(df['price'].quantile(bounds[0]), df['price'].quantile(bounds[1]), inclusive=True)]\n",
    "    print(f'Keeping {round(len(df_reduced)/len(df)*100,2)}% of the dataset')\n",
    "    return df_reduced\n",
    "\n",
    "bounds = [0.0, 0.925]\n",
    "df = quantile_selector(df, bounds)\n",
    "\n",
    "sns.boxplot(data=df, x='price', ax=ax[0,1])\n",
    "sns.kdeplot(data=df, x='price', ax=ax[1,1]);"
   ]
  },
  {
   "cell_type": "code",
   "execution_count": 15,
   "id": "9e472752",
   "metadata": {},
   "outputs": [
    {
     "data": {
      "text/plain": [
       "Index(['reviews_per_month'], dtype='object')"
      ]
     },
     "execution_count": 15,
     "metadata": {},
     "output_type": "execute_result"
    }
   ],
   "source": [
    "feat_num = df.select_dtypes(include=['float','int']).drop(columns=['latitude', 'longitude']).columns\n",
    "feat_num"
   ]
  },
  {
   "cell_type": "code",
   "execution_count": 16,
   "id": "eb78e8a1",
   "metadata": {},
   "outputs": [
    {
     "name": "stdout",
     "output_type": "stream",
     "text": [
      "0.02% minimum_nights values are above 15!\n"
     ]
    },
    {
     "data": {
      "image/png": "[encoded data removed]",
      "text/plain": [
       "<Figure size 1080x432 with 6 Axes>"
      ]
     },
     "metadata": {
      "needs_background": "light"
     },
     "output_type": "display_data"
    }
   ],
   "source": [
    "fig, ax = plt.subplots(2,3, figsize=(15,6))\n",
    "sns.boxplot(data=df, x='minimum_nights', ax=ax[0,0])\n",
    "sns.kdeplot(data=df, x='minimum_nights', ax=ax[1,0]);\n",
    "\n",
    "# First Step\n",
    "df_red = df[df['minimum_nights']<1e8]\n",
    "\n",
    "sns.boxplot(data=df_red, x='minimum_nights', ax=ax[0,1])\n",
    "sns.kdeplot(data=df_red, x='minimum_nights', ax=ax[1,1]);\n",
    "\n",
    "anomalies = df[feat_num[0]]>15\n",
    "print(f'{round(len(df[anomalies])/len(df)*100, 2)}% minimum_nights values are above 15!')\n",
    "\n",
    "# Second Step\n",
    "def nan_converter(x, value):\n",
    "    if x > value:\n",
    "        return np.nan\n",
    "    return x\n",
    "\n",
    "df['minimum_nights'] = df['minimum_nights'].copy().apply(lambda x: nan_converter(x, 15))\n",
    "\n",
    "simple_impute = SimpleImputer(strategy='median')\n",
    "df['minimum_nights'] = simple_impute.fit_transform(df[['minimum_nights']])\n",
    "\n",
    "sns.boxplot(data=df, x='minimum_nights', ax=ax[0,2])\n",
    "sns.kdeplot(data=df, x='minimum_nights', ax=ax[1,2]);"
   ]
  },
  {
   "cell_type": "code",
   "execution_count": 17,
   "id": "7ab018cb",
   "metadata": {},
   "outputs": [
    {
     "data": {
      "image/png": "[encoded data removed]",
      "text/plain": [
       "<Figure size 1080x432 with 4 Axes>"
      ]
     },
     "metadata": {
      "needs_background": "light"
     },
     "output_type": "display_data"
    }
   ],
   "source": [
    "fig, ax = plt.subplots(2,2, figsize=(15,6))\n",
    "sns.boxplot(data=df, x='number_of_reviews', ax=ax[0,0])\n",
    "sns.boxplot(data=df, x='reviews_per_month', ax=ax[0,1], color='r')\n",
    "sns.kdeplot(data=df, x='number_of_reviews', ax=ax[1,0])\n",
    "sns.kdeplot(data=df, x='reviews_per_month', ax=ax[1,1], color='r');"
   ]
  },
  {
   "cell_type": "code",
   "execution_count": 18,
   "id": "a65c250b",
   "metadata": {},
   "outputs": [
    {
     "data": {
      "image/png": "[encoded data removed]",
      "text/plain": [
       "<Figure size 1080x432 with 4 Axes>"
      ]
     },
     "metadata": {
      "needs_background": "light"
     },
     "output_type": "display_data"
    }
   ],
   "source": [
    "fig, ax = plt.subplots(2,2, figsize=(15,6))\n",
    "sns.boxplot(data=df, x='calculated_host_listings_count', ax=ax[0,0], color='g')\n",
    "sns.boxplot(data=df, x='availability_365', ax=ax[0,1], color='y')\n",
    "sns.kdeplot(data=df, x='calculated_host_listings_count', ax=ax[1,0], color='g')\n",
    "sns.kdeplot(data=df, x='availability_365', ax=ax[1,1], color='y');"
   ]
  },
  {
   "cell_type": "code",
   "execution_count": 19,
   "id": "f2ea326f",
   "metadata": {},
   "outputs": [
    {
     "name": "stderr",
     "output_type": "stream",
     "text": [
      "C:\\Users\\perso\\anaconda3\\lib\\site-packages\\IPython\\core\\interactiveshell.py:3165: DtypeWarning: Columns (4) have mixed types.Specify dtype option on import or set low_memory=False.\n",
      "  has_raised = await self.run_ast_nodes(code_ast.body, cell_name,\n"
     ]
    },
    {
     "data": {
      "text/html": [
       "<div>\n",
       "<style scoped>\n",
       "    .dataframe tbody tr th:only-of-type {\n",
       "        vertical-align: middle;\n",
       "    }\n",
       "\n",
       "    .dataframe tbody tr th {\n",
       "        vertical-align: top;\n",
       "    }\n",
       "\n",
       "    .dataframe thead th {\n",
       "        text-align: right;\n",
       "    }\n",
       "</style>\n",
       "<table border=\"1\" class=\"dataframe\">\n",
       "  <thead>\n",
       "    <tr style=\"text-align: right;\">\n",
       "      <th></th>\n",
       "      <th>id</th>\n",
       "      <th>name</th>\n",
       "      <th>host_id</th>\n",
       "      <th>host_name</th>\n",
       "      <th>neighbourhood_group</th>\n",
       "      <th>neighbourhood</th>\n",
       "      <th>latitude</th>\n",
       "      <th>longitude</th>\n",
       "      <th>room_type</th>\n",
       "      <th>price</th>\n",
       "      <th>minimum_nights</th>\n",
       "      <th>number_of_reviews</th>\n",
       "      <th>last_review</th>\n",
       "      <th>reviews_per_month</th>\n",
       "      <th>calculated_host_listings_count</th>\n",
       "      <th>availability_365</th>\n",
       "      <th>city</th>\n",
       "    </tr>\n",
       "  </thead>\n",
       "  <tbody>\n",
       "    <tr>\n",
       "      <th>0</th>\n",
       "      <td>38585</td>\n",
       "      <td>Charming Victorian home - twin beds + breakfast</td>\n",
       "      <td>165529</td>\n",
       "      <td>Evelyne</td>\n",
       "      <td>NaN</td>\n",
       "      <td>28804</td>\n",
       "      <td>35.65146</td>\n",
       "      <td>-82.62792</td>\n",
       "      <td>Private room</td>\n",
       "      <td>60</td>\n",
       "      <td>1</td>\n",
       "      <td>138</td>\n",
       "      <td>16/02/20</td>\n",
       "      <td>1.14</td>\n",
       "      <td>1</td>\n",
       "      <td>0</td>\n",
       "      <td>Asheville</td>\n",
       "    </tr>\n",
       "  </tbody>\n",
       "</table>\n",
       "</div>"
      ],
      "text/plain": [
       "      id                                             name  host_id host_name  \\\n",
       "0  38585  Charming Victorian home - twin beds + breakfast   165529   Evelyne   \n",
       "\n",
       "  neighbourhood_group neighbourhood  latitude  longitude     room_type  price  \\\n",
       "0                 NaN         28804  35.65146  -82.62792  Private room     60   \n",
       "\n",
       "   minimum_nights  number_of_reviews last_review  reviews_per_month  \\\n",
       "0               1                138    16/02/20               1.14   \n",
       "\n",
       "   calculated_host_listings_count  availability_365       city  \n",
       "0                               1                 0  Asheville  "
      ]
     },
     "execution_count": 19,
     "metadata": {},
     "output_type": "execute_result"
    }
   ],
   "source": [
    "df = pd.read_csv('AB_US_2020.csv')\n",
    "df.head(1)"
   ]
  },
  {
   "cell_type": "code",
   "execution_count": 20,
   "id": "b08a961f",
   "metadata": {},
   "outputs": [],
   "source": [
    "dropped_feat = ['last_review','name', 'latitude', 'longitude',\n",
    "                'id','host_id','host_name', 'neighbourhood']\n",
    "df = df.drop(columns=dropped_feat)"
   ]
  },
  {
   "cell_type": "code",
   "execution_count": 21,
   "id": "2ba7bad9",
   "metadata": {},
   "outputs": [
    {
     "name": "stdout",
     "output_type": "stream",
     "text": [
      "Keeping 92.52% of the dataset\n"
     ]
    }
   ],
   "source": [
    "# Quantile Selection\n",
    "bounds = [0.0, 0.925]\n",
    "\n",
    "def quantile_selector(df, bounds):\n",
    "    df_reduced = df[df['price'].between(df['price'].quantile(bounds[0]), df['price'].quantile(bounds[1]), inclusive=True)]\n",
    "    print(f'Keeping {round(len(df_reduced)/len(df)*100,2)}% of the dataset')\n",
    "    return df_reduced\n",
    "\n",
    "df = quantile_selector(df, bounds)"
   ]
  },
  {
   "cell_type": "code",
   "execution_count": 22,
   "id": "1af284e2",
   "metadata": {},
   "outputs": [],
   "source": [
    "X = df.drop(columns='price')\n",
    "y = df['price']"
   ]
  },
  {
   "cell_type": "code",
   "execution_count": 24,
   "id": "c21cd0a4",
   "metadata": {},
   "outputs": [],
   "source": [
    "# # Strong Impact\n",
    "# class QuantileSelector(TransformerMixin, BaseEstimator): \n",
    "\n",
    "#     def __init__(self, target, bounds):\n",
    "#         self.bounds = bounds\n",
    "#         self.target = target\n",
    "    \n",
    "#     def fit(self, X, y=None):\n",
    "#         return self\n",
    "    \n",
    "#     def transform(self, X, y=None):\n",
    "#         df = pd.concat([X, self.target], axis=1)\n",
    "#         df_reduced = df[df['price'].between(df['price'].quantile(bounds[0]), df['price'].quantile(bounds[1]), inclusive=True)]\n",
    "#         print(f'Keeping {round(len(df_reduced)/len(df)*100,2)}% of the dataset')\n",
    "#         X = df_reduced.drop(columns='price')\n",
    "#         return X\n"
   ]
  },
  {
   "cell_type": "code",
   "execution_count": 23,
   "id": "ee279766",
   "metadata": {},
   "outputs": [
    {
     "data": {
      "text/plain": [
       "Index(['neighbourhood_group', 'room_type', 'minimum_nights',\n",
       "       'number_of_reviews', 'reviews_per_month',\n",
       "       'calculated_host_listings_count', 'availability_365', 'city'],\n",
       "      dtype='object')"
      ]
     },
     "execution_count": 23,
     "metadata": {},
     "output_type": "execute_result"
    }
   ],
   "source": [
    "X.columns"
   ]
  },
  {
   "cell_type": "code",
   "execution_count": 25,
   "id": "1fec1117",
   "metadata": {},
   "outputs": [],
   "source": [
    "# Very Strong Impact\n",
    "# class NANConverter(TransformerMixin, BaseEstimator): \n",
    "\n",
    "#     def __init__(self, threshold, col_name, greater=True):\n",
    "#         self.threshold = threshold\n",
    "#         self.col_name = col_name\n",
    "#         self.greater = greater\n",
    "    \n",
    "#     def fit(self, X, y=None):\n",
    "#         return self\n",
    "    \n",
    "#     def transform(self, X, y=None):\n",
    "#         import pdb; pdb.set_trace()\n",
    "#         if self.greater:\n",
    "#             cond = X[self.col_name]>self.threshold\n",
    "#             X.loc[cond, self.col_name] = np.nan\n",
    "#         else:\n",
    "#             cond = X[self.col_name]<self.threshold\n",
    "#             X.loc[cond, self.col_name] = np.nan\n",
    "#         return X\n"
   ]
  },
  {
   "cell_type": "code",
   "execution_count": 26,
   "id": "509be7f4",
   "metadata": {},
   "outputs": [],
   "source": [
    "def NANConvert(x, threshold):\n",
    "    if x>threshold:\n",
    "        return np.nan\n",
    "    return x\n",
    "\n",
    "X['minimum_nights'] = X['minimum_nights'].apply(lambda x: NANConvert(x, 15))"
   ]
  },
  {
   "cell_type": "code",
   "execution_count": 27,
   "id": "92980300",
   "metadata": {},
   "outputs": [
    {
     "data": {
      "text/plain": [
       "int64      3\n",
       "object     3\n",
       "float64    2\n",
       "dtype: int64"
      ]
     },
     "execution_count": 27,
     "metadata": {},
     "output_type": "execute_result"
    }
   ],
   "source": [
    "X.dtypes.value_counts()"
   ]
  },
  {
   "cell_type": "code",
   "execution_count": 28,
   "id": "a52baccf",
   "metadata": {},
   "outputs": [],
   "source": [
    "# Converting Availability 0 into median value\n",
    "def ValueConvert(x, threshold, value):\n",
    "    if x==threshold:\n",
    "        return value\n",
    "    return x\n",
    "\n",
    "median = round(np.mean(X['availability_365']))\n",
    "\n",
    "X['availability_365'] = X['availability_365'].apply(lambda x: ValueConvert(x, 0, median))"
   ]
  },
  {
   "cell_type": "code",
   "execution_count": 29,
   "id": "8e69348a",
   "metadata": {},
   "outputs": [],
   "source": [
    "def to_month(x):\n",
    "    if x < 30:\n",
    "        return '1'\n",
    "\n",
    "    elif 30 <= x <60:\n",
    "        return '2'\n",
    "    \n",
    "    elif 60 <= x <90:\n",
    "        return '3'\n",
    "    \n",
    "    elif 90 <= x <120:\n",
    "        return '4'\n",
    "    \n",
    "    elif 120 <= x <150:\n",
    "        return '5'\n",
    "    \n",
    "    elif 150 <= x <170:\n",
    "        return '6'\n",
    "    \n",
    "    elif 170 <= x <200:\n",
    "        return '7'\n",
    "    \n",
    "    elif 230 <= x <250:\n",
    "        return '8'\n",
    "    \n",
    "    elif 250 <= x <270:\n",
    "        return '9'\n",
    "    \n",
    "    elif 270 <= x <300:\n",
    "        return '10'\n",
    "    \n",
    "    elif 300 <= x <330:\n",
    "        return '11'\n",
    "    \n",
    "    else:\n",
    "        return '12'\n",
    "    \n",
    "X['availability_365'] = X['availability_365'].apply(to_month)"
   ]
  },
  {
   "cell_type": "code",
   "execution_count": 30,
   "id": "8f5c0da4",
   "metadata": {},
   "outputs": [
    {
     "data": {
      "text/plain": [
       "object     4\n",
       "int64      2\n",
       "float64    2\n",
       "dtype: int64"
      ]
     },
     "execution_count": 30,
     "metadata": {},
     "output_type": "execute_result"
    }
   ],
   "source": [
    "X.dtypes.value_counts()"
   ]
  },
  {
   "cell_type": "code",
   "execution_count": 31,
   "id": "8eeac129",
   "metadata": {},
   "outputs": [
    {
     "data": {
      "text/html": [
       "<style>#sk-container-id-1 {color: black;background-color: white;}#sk-container-id-1 pre{padding: 0;}#sk-container-id-1 div.sk-toggleable {background-color: white;}#sk-container-id-1 label.sk-toggleable__label {cursor: pointer;display: block;width: 100%;margin-bottom: 0;padding: 0.3em;box-sizing: border-box;text-align: center;}#sk-container-id-1 label.sk-toggleable__label-arrow:before {content: \"▸\";float: left;margin-right: 0.25em;color: #696969;}#sk-container-id-1 label.sk-toggleable__label-arrow:hover:before {color: black;}#sk-container-id-1 div.sk-estimator:hover label.sk-toggleable__label-arrow:before {color: black;}#sk-container-id-1 div.sk-toggleable__content {max-height: 0;max-width: 0;overflow: hidden;text-align: left;background-color: #f0f8ff;}#sk-container-id-1 div.sk-toggleable__content pre {margin: 0.2em;color: black;border-radius: 0.25em;background-color: #f0f8ff;}#sk-container-id-1 input.sk-toggleable__control:checked~div.sk-toggleable__content {max-height: 200px;max-width: 100%;overflow: auto;}#sk-container-id-1 input.sk-toggleable__control:checked~label.sk-toggleable__label-arrow:before {content: \"▾\";}#sk-container-id-1 div.sk-estimator input.sk-toggleable__control:checked~label.sk-toggleable__label {background-color: #d4ebff;}#sk-container-id-1 div.sk-label input.sk-toggleable__control:checked~label.sk-toggleable__label {background-color: #d4ebff;}#sk-container-id-1 input.sk-hidden--visually {border: 0;clip: rect(1px 1px 1px 1px);clip: rect(1px, 1px, 1px, 1px);height: 1px;margin: -1px;overflow: hidden;padding: 0;position: absolute;width: 1px;}#sk-container-id-1 div.sk-estimator {font-family: monospace;background-color: #f0f8ff;border: 1px dotted black;border-radius: 0.25em;box-sizing: border-box;margin-bottom: 0.5em;}#sk-container-id-1 div.sk-estimator:hover {background-color: #d4ebff;}#sk-container-id-1 div.sk-parallel-item::after {content: \"\";width: 100%;border-bottom: 1px solid gray;flex-grow: 1;}#sk-container-id-1 div.sk-label:hover label.sk-toggleable__label {background-color: #d4ebff;}#sk-container-id-1 div.sk-serial::before {content: \"\";position: absolute;border-left: 1px solid gray;box-sizing: border-box;top: 0;bottom: 0;left: 50%;z-index: 0;}#sk-container-id-1 div.sk-serial {display: flex;flex-direction: column;align-items: center;background-color: white;padding-right: 0.2em;padding-left: 0.2em;position: relative;}#sk-container-id-1 div.sk-item {position: relative;z-index: 1;}#sk-container-id-1 div.sk-parallel {display: flex;align-items: stretch;justify-content: center;background-color: white;position: relative;}#sk-container-id-1 div.sk-item::before, #sk-container-id-1 div.sk-parallel-item::before {content: \"\";position: absolute;border-left: 1px solid gray;box-sizing: border-box;top: 0;bottom: 0;left: 50%;z-index: -1;}#sk-container-id-1 div.sk-parallel-item {display: flex;flex-direction: column;z-index: 1;position: relative;background-color: white;}#sk-container-id-1 div.sk-parallel-item:first-child::after {align-self: flex-end;width: 50%;}#sk-container-id-1 div.sk-parallel-item:last-child::after {align-self: flex-start;width: 50%;}#sk-container-id-1 div.sk-parallel-item:only-child::after {width: 0;}#sk-container-id-1 div.sk-dashed-wrapped {border: 1px dashed gray;margin: 0 0.4em 0.5em 0.4em;box-sizing: border-box;padding-bottom: 0.4em;background-color: white;}#sk-container-id-1 div.sk-label label {font-family: monospace;font-weight: bold;display: inline-block;line-height: 1.2em;}#sk-container-id-1 div.sk-label-container {text-align: center;}#sk-container-id-1 div.sk-container {/* jupyter's `normalize.less` sets `[hidden] { display: none; }` but bootstrap.min.css set `[hidden] { display: none !important; }` so we also need the `!important` here to be able to override the default hidden behavior on the sphinx rendered scikit-learn.org. See: https://github.com/scikit-learn/scikit-learn/issues/21755 */display: inline-block !important;position: relative;}#sk-container-id-1 div.sk-text-repr-fallback {display: none;}</style><div id=\"sk-container-id-1\" class=\"sk-top-container\"><div class=\"sk-text-repr-fallback\"><pre>Pipeline(steps=[(&#x27;preprocessing&#x27;,\n",
       "                 ColumnTransformer(transformers=[(&#x27;num_encoder&#x27;,\n",
       "                                                  Pipeline(steps=[(&#x27;simple_imputer&#x27;,\n",
       "                                                                   SimpleImputer(fill_value=1,\n",
       "                                                                                 strategy=&#x27;constant&#x27;)),\n",
       "                                                                  (&#x27;rob_scaler&#x27;,\n",
       "                                                                   RobustScaler())]),\n",
       "                                                  &lt;sklearn.compose._column_transformer.make_column_selector object at 0x000001AF9DA11A30&gt;),\n",
       "                                                 (&#x27;cat_encoder&#x27;,\n",
       "                                                  Pipeline(steps=[(&#x27;simple_imputer&#x27;,\n",
       "                                                                   SimpleImputer(fill_value=&#x27;NA&#x27;,\n",
       "                                                                                 strategy=&#x27;constant&#x27;)),\n",
       "                                                                  (&#x27;OneHotEncoder&#x27;,\n",
       "                                                                   OneHotEncoder(handle_unknown=&#x27;ignore&#x27;,\n",
       "                                                                                 sparse=False))]),\n",
       "                                                  &lt;sklearn.compose._column_transformer.make_column_selector object at 0x000001AF9DA112E0&gt;)])),\n",
       "                (&#x27;model&#x27;, Ridge())])</pre><b>In a Jupyter environment, please rerun this cell to show the HTML representation or trust the notebook. <br />On GitHub, the HTML representation is unable to render, please try loading this page with nbviewer.org.</b></div><div class=\"sk-container\" hidden><div class=\"sk-item sk-dashed-wrapped\"><div class=\"sk-label-container\"><div class=\"sk-label sk-toggleable\"><input class=\"sk-toggleable__control sk-hidden--visually\" id=\"sk-estimator-id-1\" type=\"checkbox\" ><label for=\"sk-estimator-id-1\" class=\"sk-toggleable__label sk-toggleable__label-arrow\">Pipeline</label><div class=\"sk-toggleable__content\"><pre>Pipeline(steps=[(&#x27;preprocessing&#x27;,\n",
       "                 ColumnTransformer(transformers=[(&#x27;num_encoder&#x27;,\n",
       "                                                  Pipeline(steps=[(&#x27;simple_imputer&#x27;,\n",
       "                                                                   SimpleImputer(fill_value=1,\n",
       "                                                                                 strategy=&#x27;constant&#x27;)),\n",
       "                                                                  (&#x27;rob_scaler&#x27;,\n",
       "                                                                   RobustScaler())]),\n",
       "                                                  &lt;sklearn.compose._column_transformer.make_column_selector object at 0x000001AF9DA11A30&gt;),\n",
       "                                                 (&#x27;cat_encoder&#x27;,\n",
       "                                                  Pipeline(steps=[(&#x27;simple_imputer&#x27;,\n",
       "                                                                   SimpleImputer(fill_value=&#x27;NA&#x27;,\n",
       "                                                                                 strategy=&#x27;constant&#x27;)),\n",
       "                                                                  (&#x27;OneHotEncoder&#x27;,\n",
       "                                                                   OneHotEncoder(handle_unknown=&#x27;ignore&#x27;,\n",
       "                                                                                 sparse=False))]),\n",
       "                                                  &lt;sklearn.compose._column_transformer.make_column_selector object at 0x000001AF9DA112E0&gt;)])),\n",
       "                (&#x27;model&#x27;, Ridge())])</pre></div></div></div><div class=\"sk-serial\"><div class=\"sk-item sk-dashed-wrapped\"><div class=\"sk-label-container\"><div class=\"sk-label sk-toggleable\"><input class=\"sk-toggleable__control sk-hidden--visually\" id=\"sk-estimator-id-2\" type=\"checkbox\" ><label for=\"sk-estimator-id-2\" class=\"sk-toggleable__label sk-toggleable__label-arrow\">preprocessing: ColumnTransformer</label><div class=\"sk-toggleable__content\"><pre>ColumnTransformer(transformers=[(&#x27;num_encoder&#x27;,\n",
       "                                 Pipeline(steps=[(&#x27;simple_imputer&#x27;,\n",
       "                                                  SimpleImputer(fill_value=1,\n",
       "                                                                strategy=&#x27;constant&#x27;)),\n",
       "                                                 (&#x27;rob_scaler&#x27;,\n",
       "                                                  RobustScaler())]),\n",
       "                                 &lt;sklearn.compose._column_transformer.make_column_selector object at 0x000001AF9DA11A30&gt;),\n",
       "                                (&#x27;cat_encoder&#x27;,\n",
       "                                 Pipeline(steps=[(&#x27;simple_imputer&#x27;,\n",
       "                                                  SimpleImputer(fill_value=&#x27;NA&#x27;,\n",
       "                                                                strategy=&#x27;constant&#x27;)),\n",
       "                                                 (&#x27;OneHotEncoder&#x27;,\n",
       "                                                  OneHotEncoder(handle_unknown=&#x27;ignore&#x27;,\n",
       "                                                                sparse=False))]),\n",
       "                                 &lt;sklearn.compose._column_transformer.make_column_selector object at 0x000001AF9DA112E0&gt;)])</pre></div></div></div><div class=\"sk-parallel\"><div class=\"sk-parallel-item\"><div class=\"sk-item\"><div class=\"sk-label-container\"><div class=\"sk-label sk-toggleable\"><input class=\"sk-toggleable__control sk-hidden--visually\" id=\"sk-estimator-id-3\" type=\"checkbox\" ><label for=\"sk-estimator-id-3\" class=\"sk-toggleable__label sk-toggleable__label-arrow\">num_encoder</label><div class=\"sk-toggleable__content\"><pre>&lt;sklearn.compose._column_transformer.make_column_selector object at 0x000001AF9DA11A30&gt;</pre></div></div></div><div class=\"sk-serial\"><div class=\"sk-item\"><div class=\"sk-serial\"><div class=\"sk-item\"><div class=\"sk-estimator sk-toggleable\"><input class=\"sk-toggleable__control sk-hidden--visually\" id=\"sk-estimator-id-4\" type=\"checkbox\" ><label for=\"sk-estimator-id-4\" class=\"sk-toggleable__label sk-toggleable__label-arrow\">SimpleImputer</label><div class=\"sk-toggleable__content\"><pre>SimpleImputer(fill_value=1, strategy=&#x27;constant&#x27;)</pre></div></div></div><div class=\"sk-item\"><div class=\"sk-estimator sk-toggleable\"><input class=\"sk-toggleable__control sk-hidden--visually\" id=\"sk-estimator-id-5\" type=\"checkbox\" ><label for=\"sk-estimator-id-5\" class=\"sk-toggleable__label sk-toggleable__label-arrow\">RobustScaler</label><div class=\"sk-toggleable__content\"><pre>RobustScaler()</pre></div></div></div></div></div></div></div></div><div class=\"sk-parallel-item\"><div class=\"sk-item\"><div class=\"sk-label-container\"><div class=\"sk-label sk-toggleable\"><input class=\"sk-toggleable__control sk-hidden--visually\" id=\"sk-estimator-id-6\" type=\"checkbox\" ><label for=\"sk-estimator-id-6\" class=\"sk-toggleable__label sk-toggleable__label-arrow\">cat_encoder</label><div class=\"sk-toggleable__content\"><pre>&lt;sklearn.compose._column_transformer.make_column_selector object at 0x000001AF9DA112E0&gt;</pre></div></div></div><div class=\"sk-serial\"><div class=\"sk-item\"><div class=\"sk-serial\"><div class=\"sk-item\"><div class=\"sk-estimator sk-toggleable\"><input class=\"sk-toggleable__control sk-hidden--visually\" id=\"sk-estimator-id-7\" type=\"checkbox\" ><label for=\"sk-estimator-id-7\" class=\"sk-toggleable__label sk-toggleable__label-arrow\">SimpleImputer</label><div class=\"sk-toggleable__content\"><pre>SimpleImputer(fill_value=&#x27;NA&#x27;, strategy=&#x27;constant&#x27;)</pre></div></div></div><div class=\"sk-item\"><div class=\"sk-estimator sk-toggleable\"><input class=\"sk-toggleable__control sk-hidden--visually\" id=\"sk-estimator-id-8\" type=\"checkbox\" ><label for=\"sk-estimator-id-8\" class=\"sk-toggleable__label sk-toggleable__label-arrow\">OneHotEncoder</label><div class=\"sk-toggleable__content\"><pre>OneHotEncoder(handle_unknown=&#x27;ignore&#x27;, sparse=False)</pre></div></div></div></div></div></div></div></div></div></div><div class=\"sk-item\"><div class=\"sk-estimator sk-toggleable\"><input class=\"sk-toggleable__control sk-hidden--visually\" id=\"sk-estimator-id-9\" type=\"checkbox\" ><label for=\"sk-estimator-id-9\" class=\"sk-toggleable__label sk-toggleable__label-arrow\">Ridge</label><div class=\"sk-toggleable__content\"><pre>Ridge()</pre></div></div></div></div></div></div></div>"
      ],
      "text/plain": [
       "Pipeline(steps=[('preprocessing',\n",
       "                 ColumnTransformer(transformers=[('num_encoder',\n",
       "                                                  Pipeline(steps=[('simple_imputer',\n",
       "                                                                   SimpleImputer(fill_value=1,\n",
       "                                                                                 strategy='constant')),\n",
       "                                                                  ('rob_scaler',\n",
       "                                                                   RobustScaler())]),\n",
       "                                                  <sklearn.compose._column_transformer.make_column_selector object at 0x000001AF9DA11A30>),\n",
       "                                                 ('cat_encoder',\n",
       "                                                  Pipeline(steps=[('simple_imputer',\n",
       "                                                                   SimpleImputer(fill_value='NA',\n",
       "                                                                                 strategy='constant')),\n",
       "                                                                  ('OneHotEncoder',\n",
       "                                                                   OneHotEncoder(handle_unknown='ignore',\n",
       "                                                                                 sparse=False))]),\n",
       "                                                  <sklearn.compose._column_transformer.make_column_selector object at 0x000001AF9DA112E0>)])),\n",
       "                ('model', Ridge())])"
      ]
     },
     "execution_count": 31,
     "metadata": {},
     "output_type": "execute_result"
    }
   ],
   "source": [
    "num_encoder = Pipeline([('simple_imputer', SimpleImputer(strategy = 'constant', fill_value=1)),\n",
    "                        ('rob_scaler', RobustScaler())])\n",
    "\n",
    "cat_encoder = Pipeline([('simple_imputer', SimpleImputer(strategy = 'constant', fill_value='NA')),\n",
    "                        ('OneHotEncoder', OneHotEncoder(sparse=False, handle_unknown='ignore'))])\n",
    "\n",
    "\n",
    "preproc = ColumnTransformer([('num_encoder', num_encoder, make_column_selector(dtype_include=['int64','float64'])),\n",
    "                             ('cat_encoder', cat_encoder , make_column_selector(dtype_include=['object']))\n",
    "                              ])\n",
    "\n",
    "baseline_pipe = Pipeline([('preprocessing', preproc),\n",
    "                          ('model', Ridge())\n",
    "                        ])\n",
    "baseline_pipe"
   ]
  },
  {
   "cell_type": "code",
   "execution_count": 32,
   "id": "50ddc73f",
   "metadata": {},
   "outputs": [],
   "source": [
    "rsme = make_scorer(lambda y_true, y_pred: mean_squared_error(y_true, y_pred)**0.5)"
   ]
  },
  {
   "cell_type": "code",
   "execution_count": 33,
   "id": "4a1041dd",
   "metadata": {},
   "outputs": [
    {
     "data": {
      "text/plain": [
       "0.22211726840037768"
      ]
     },
     "execution_count": 33,
     "metadata": {},
     "output_type": "execute_result"
    }
   ],
   "source": [
    "baseline_score = cross_val_score(baseline_pipe, X, y, cv=5).mean()\n",
    "baseline_score"
   ]
  },
  {
   "cell_type": "code",
   "execution_count": 34,
   "id": "d3226f57",
   "metadata": {},
   "outputs": [
    {
     "name": "stderr",
     "output_type": "stream",
     "text": [
      "C:\\Users\\perso\\anaconda3\\lib\\site-packages\\IPython\\core\\interactiveshell.py:3165: DtypeWarning: Columns (4) have mixed types.Specify dtype option on import or set low_memory=False.\n",
      "  has_raised = await self.run_ast_nodes(code_ast.body, cell_name,\n"
     ]
    }
   ],
   "source": [
    "df = pd.read_csv('AB_US_2020.csv')"
   ]
  },
  {
   "cell_type": "code",
   "execution_count": 35,
   "id": "487e2fc9",
   "metadata": {},
   "outputs": [
    {
     "data": {
      "text/plain": [
       "226030"
      ]
     },
     "execution_count": 35,
     "metadata": {},
     "output_type": "execute_result"
    }
   ],
   "source": [
    "len(df)"
   ]
  },
  {
   "cell_type": "code",
   "execution_count": 36,
   "id": "97c9ced5",
   "metadata": {},
   "outputs": [
    {
     "data": {
      "text/plain": [
       "Index(['id', 'name', 'host_id', 'host_name', 'neighbourhood_group',\n",
       "       'neighbourhood', 'latitude', 'longitude', 'room_type', 'price',\n",
       "       'minimum_nights', 'number_of_reviews', 'last_review',\n",
       "       'reviews_per_month', 'calculated_host_listings_count',\n",
       "       'availability_365', 'city'],\n",
       "      dtype='object')"
      ]
     },
     "execution_count": 36,
     "metadata": {},
     "output_type": "execute_result"
    }
   ],
   "source": [
    "df.columns"
   ]
  },
  {
   "cell_type": "code",
   "execution_count": 37,
   "id": "72e83951",
   "metadata": {},
   "outputs": [
    {
     "data": {
      "text/plain": [
       "array([nan, 'Hawaii', 'Kauai', 'Maui', 'Honolulu', 'Other Cities',\n",
       "       'City of Los Angeles', 'Unincorporated Areas', 'Manhattan',\n",
       "       'Brooklyn', 'Queens', 'Staten Island', 'Bronx', 'Providence',\n",
       "       'Washington', 'Newport', 'Bristol', 'Kent', 'Central Area',\n",
       "       'Other neighborhoods', 'West Seattle', 'Downtown', 'Ballard',\n",
       "       'Capitol Hill', 'Beacon Hill', 'Seward Park', 'Queen Anne',\n",
       "       'Rainier Valley', 'Lake City', 'Cascade', 'Delridge',\n",
       "       'University District', 'Northgate', 'Magnolia', 'Interbay'],\n",
       "      dtype=object)"
      ]
     },
     "execution_count": 37,
     "metadata": {},
     "output_type": "execute_result"
    }
   ],
   "source": [
    "df.neighbourhood_group.unique()"
   ]
  },
  {
   "cell_type": "code",
   "execution_count": 38,
   "id": "3d3a5988",
   "metadata": {},
   "outputs": [],
   "source": [
    "dropped_feat = ['id','host_id','host_name', 'neighbourhood']\n",
    "df = df.drop(columns=dropped_feat)"
   ]
  },
  {
   "cell_type": "code",
   "execution_count": 39,
   "id": "7c54779f",
   "metadata": {},
   "outputs": [
    {
     "data": {
      "text/plain": [
       "array(['Asheville', 'Austin', 'Boston', 'Broward County', 'Cambridge',\n",
       "       'Chicago', 'Clark County', 'Columbus', 'Denver', 'Hawaii',\n",
       "       'Jersey City', 'Los Angeles', 'Nashville', 'New Orleans',\n",
       "       'New York City', 'Oakland', 'Pacific Grove', 'Portland',\n",
       "       'Rhode Island', 'Salem', 'San Clara Country', 'San Diego',\n",
       "       'San Francisco', 'San Mateo County', 'Santa Cruz County',\n",
       "       'Seattle', 'Twin Cities MSA', 'Washington D.C.'], dtype=object)"
      ]
     },
     "execution_count": 39,
     "metadata": {},
     "output_type": "execute_result"
    }
   ],
   "source": [
    "df.city.unique()"
   ]
  },
  {
   "cell_type": "code",
   "execution_count": 40,
   "id": "46686bd8",
   "metadata": {},
   "outputs": [
    {
     "data": {
      "text/plain": [
       "array(['Hawaii', 'Kauai', 'Maui', 'Honolulu'], dtype=object)"
      ]
     },
     "execution_count": 40,
     "metadata": {},
     "output_type": "execute_result"
    }
   ],
   "source": [
    "df[df.city == 'Hawaii'].neighbourhood_group.unique()"
   ]
  },
  {
   "cell_type": "code",
   "execution_count": 41,
   "id": "fd97773d",
   "metadata": {},
   "outputs": [
    {
     "data": {
      "text/plain": [
       "array(['Manhattan', 'Brooklyn', 'Queens', 'Staten Island', 'Bronx'],\n",
       "      dtype=object)"
      ]
     },
     "execution_count": 41,
     "metadata": {},
     "output_type": "execute_result"
    }
   ],
   "source": [
    "df[df.city == 'New York City'].neighbourhood_group.unique()"
   ]
  },
  {
   "cell_type": "code",
   "execution_count": 42,
   "id": "83cfba36",
   "metadata": {},
   "outputs": [
    {
     "data": {
      "text/plain": [
       "array(['Providence', 'Washington', 'Newport', 'Bristol', 'Kent'],\n",
       "      dtype=object)"
      ]
     },
     "execution_count": 42,
     "metadata": {},
     "output_type": "execute_result"
    }
   ],
   "source": [
    "df[df.city == 'Rhode Island'].neighbourhood_group.unique()"
   ]
  },
  {
   "cell_type": "code",
   "execution_count": 43,
   "id": "c2c3477e",
   "metadata": {},
   "outputs": [],
   "source": [
    "center_coordinates = {'Asheville': [35.595058, -82.551487, 'NC'],\n",
    "                      'Austin': [30.266666, -97.733330, 'TX'],\n",
    "                      'Boston': [42.361145, -71.057083, 'MA'],\n",
    "                      'Broward County': [26.1244, -80.2495, 'Florida'],\n",
    "                      'Cambridge': [42.373611, -71.110558,'MA'],\n",
    "                      'Chicago': [41.881832, -87.623177,'IL'],\n",
    "                      'Clark County': [36.114647, -115.172813, 'NV'], \n",
    "                      'Columbus': [39.983334, -82.983330,'OH'],\n",
    "                      'Denver': [39.742043,  -104.991531, 'CO'],\n",
    "                      'Hawaii': [19.8968, -155.5828, 'HI'],\n",
    "                      'Kauai': [22.108543, -159.496765, 'HI'],\n",
    "                      'Maui': [20.798363, -156.331924, 'HI'],\n",
    "                      'Honolulu': [21.315603, -157.858093,'HI'],\n",
    "                      'Jersey City': [40.719074, -74.050552,'NJ'],\n",
    "                      'Los Angeles': [34.052235, -118.243683, 'CA'],\n",
    "                      'Nashville': [36.174465, -86.767960, 'TN'],\n",
    "                      'New Orleans': [29.951065, -90.071533, 'LA'],\n",
    "                      'Manhattan': [40.754932, -73.984016, 'NY'],\n",
    "                      'Brooklyn': [40.650002, -73.949997, 'NY'],\n",
    "                      'Queens': [40.742054, -73.769417, 'NY'],\n",
    "                      'Staten Island': [40.579021, -74.151535, 'NY'],\n",
    "                      'Bronx': [40.837048, -73.865433, 'NY'],\n",
    "                      'Oakland': [37.804363, -122.271111, 'CA'],\n",
    "                      'Pacific Grove': [36.617779, -121.916664, 'CA'],\n",
    "                      'Portland': [45.523064, -122.676483, 'OR'],\n",
    "                      'Providence': [41.825226, -71.418884, 'RI'],\n",
    "                      'Washington': [41.6884336, -71.5667291, 'RI'],\n",
    "                      'Newport': [41.490578, -71.310196, 'RI'],\n",
    "                      'Bristol': [41.6771101,  -71.2662025, 'RI'],\n",
    "                      'Kent': [41.6800, -71.5800, 'RI'],\n",
    "                      'Salem': [44.944099, -123.040283, 'OR'],\n",
    "                      'San Clara Country': [37.354107, -121.955238, 'CA'],\n",
    "                      'San Diego': [32.715736, -117.161087, 'CA'],\n",
    "                      'San Francisco': [37.773972, -122.431297, 'CA'],\n",
    "                      'San Mateo County': [37.554169, -122.313057, 'CA'],\n",
    "                      'Santa Cruz County': [36.974117, -122.030792, 'CA'],\n",
    "                      'Seattle': [47.608013, -122.335167, 'WA'],\n",
    "                      'Twin Cities MSA': [44.986656, -93.258133, 'MN'],\n",
    "                      'Washington D.C.': [38.89511, -77.03637, 'DC']}           \n",
    "                      "
   ]
  },
  {
   "cell_type": "code",
   "execution_count": 44,
   "id": "9be0ccb7",
   "metadata": {},
   "outputs": [],
   "source": [
    "# BAD COODING !\n",
    "def city_convert(city, neigh):\n",
    "    res = []\n",
    "    for cit, nei in zip(city, neigh):\n",
    "        if cit == 'Hawaii' or cit == 'New York City' or cit == 'Rhode Island':\n",
    "            res.append(nei)\n",
    "        else:\n",
    "            res.append(cit)\n",
    "    return res\n",
    "\n",
    "df['city'] = city_convert(df.city, df.neighbourhood_group)"
   ]
  },
  {
   "cell_type": "code",
   "execution_count": 45,
   "id": "9d6cff2f",
   "metadata": {},
   "outputs": [
    {
     "data": {
      "text/plain": [
       "array(['Asheville', 'Austin', 'Boston', 'Broward County', 'Cambridge',\n",
       "       'Chicago', 'Clark County', 'Columbus', 'Denver', 'Hawaii', 'Kauai',\n",
       "       'Maui', 'Honolulu', 'Jersey City', 'Los Angeles', 'Nashville',\n",
       "       'New Orleans', 'Manhattan', 'Brooklyn', 'Queens', 'Staten Island',\n",
       "       'Bronx', 'Oakland', 'Pacific Grove', 'Portland', 'Providence',\n",
       "       'Washington', 'Newport', 'Bristol', 'Kent', 'Salem',\n",
       "       'San Clara Country', 'San Diego', 'San Francisco',\n",
       "       'San Mateo County', 'Santa Cruz County', 'Seattle',\n",
       "       'Twin Cities MSA', 'Washington D.C.'], dtype=object)"
      ]
     },
     "execution_count": 45,
     "metadata": {},
     "output_type": "execute_result"
    }
   ],
   "source": [
    "df['city'].unique()"
   ]
  },
  {
   "cell_type": "code",
   "execution_count": 46,
   "id": "94ec230e",
   "metadata": {},
   "outputs": [],
   "source": [
    "# BAD COODING !\n",
    "def city_coordinates(city, center_coordinates):\n",
    "    #import pdb; pdb.set_trace()\n",
    "    city_lat = []\n",
    "    city_lon = []\n",
    "    city_state = []\n",
    "    for cit in city:\n",
    "        res = center_coordinates[cit]\n",
    "        city_lat.append(res[0])\n",
    "        city_lon.append(res[1])\n",
    "        city_state.append(res[2])\n",
    "    return city_lat, city_lon, city_state\n",
    "\n",
    "df['city_lat'], df['city_lon'], df['city_state'] = city_coordinates(df.city, center_coordinates)"
   ]
  },
  {
   "cell_type": "code",
   "execution_count": 47,
   "id": "5d2fcd3d",
   "metadata": {},
   "outputs": [
    {
     "data": {
      "text/plain": [
       "Index(['name', 'neighbourhood_group', 'latitude', 'longitude', 'room_type',\n",
       "       'price', 'minimum_nights', 'number_of_reviews', 'last_review',\n",
       "       'reviews_per_month', 'calculated_host_listings_count',\n",
       "       'availability_365', 'city', 'city_lat', 'city_lon', 'city_state'],\n",
       "      dtype='object')"
      ]
     },
     "execution_count": 47,
     "metadata": {},
     "output_type": "execute_result"
    }
   ],
   "source": [
    "df.columns"
   ]
  },
  {
   "cell_type": "code",
   "execution_count": 48,
   "id": "290843b8",
   "metadata": {},
   "outputs": [],
   "source": [
    "def haversine_vectorized(df,\n",
    "                         start_lat=\"city_lat\",\n",
    "                         start_lon=\"city_lon\",\n",
    "                         end_lat=\"latitude\",\n",
    "                         end_lon=\"longitude\"):\n",
    "\n",
    "    lat_1_rad, lon_1_rad = np.radians(df[start_lat].astype(float)),\\\n",
    "        np.radians(df[start_lon].astype(float))\n",
    "    lat_2_rad, lon_2_rad = np.radians(df[end_lat].astype(float)),\\\n",
    "        np.radians(df[end_lon].astype(float))\n",
    "    dlon = lon_2_rad - lon_1_rad\n",
    "    dlat = lat_2_rad - lat_1_rad\n",
    "\n",
    "    a = np.sin(dlat / 2.0) ** 2 + np.cos(lat_1_rad) * np.cos(lat_2_rad) *\\\n",
    "        np.sin(dlon / 2.0) ** 2\n",
    "    c = 2 * np.arcsin(np.sqrt(a))\n",
    "    return 6371 * c"
   ]
  },
  {
   "cell_type": "code",
   "execution_count": 49,
   "id": "372af74f",
   "metadata": {},
   "outputs": [],
   "source": [
    "df['distance'] = haversine_vectorized(df)"
   ]
  },
  {
   "cell_type": "code",
   "execution_count": 50,
   "id": "5cbded02",
   "metadata": {},
   "outputs": [
    {
     "data": {
      "image/png": "[encoded data removed]",
      "text/plain": [
       "<Figure size 720x576 with 1 Axes>"
      ]
     },
     "metadata": {
      "needs_background": "light"
     },
     "output_type": "display_data"
    }
   ],
   "source": [
    "average_distance = df.groupby('city').mean()['distance'].sort_values(ascending=False)\n",
    "\n",
    "plt.figure(figsize=(10,8))\n",
    "sns.barplot(y = average_distance.index, x=average_distance.values);"
   ]
  },
  {
   "cell_type": "code",
   "execution_count": 51,
   "id": "c59290bf",
   "metadata": {},
   "outputs": [
    {
     "data": {
      "image/png": "[encoded data removed]",
      "text/plain": [
       "<Figure size 1080x360 with 2 Axes>"
      ]
     },
     "metadata": {
      "needs_background": "light"
     },
     "output_type": "display_data"
    }
   ],
   "source": [
    "fig, ax = plt.subplots(1,2, figsize=(15,5))\n",
    "sns.boxplot(data=df, x='distance', ax=ax[0])\n",
    "sns.kdeplot(data=df, x='distance', ax=ax[1]);"
   ]
  },
  {
   "cell_type": "code",
   "execution_count": 52,
   "id": "dfd1145f",
   "metadata": {},
   "outputs": [],
   "source": [
    "dropped_feat = ['last_review','name', 'latitude', 'longitude', 'city_lat', 'city_lon', 'neighbourhood_group']\n",
    "df = df.drop(columns=dropped_feat)"
   ]
  },
  {
   "cell_type": "code",
   "execution_count": 53,
   "id": "5419a255",
   "metadata": {},
   "outputs": [
    {
     "data": {
      "text/plain": [
       "Index(['room_type', 'price', 'minimum_nights', 'number_of_reviews',\n",
       "       'reviews_per_month', 'calculated_host_listings_count',\n",
       "       'availability_365', 'city', 'city_state', 'distance'],\n",
       "      dtype='object')"
      ]
     },
     "execution_count": 53,
     "metadata": {},
     "output_type": "execute_result"
    }
   ],
   "source": [
    "df.columns"
   ]
  },
  {
   "cell_type": "code",
   "execution_count": 54,
   "id": "d07a6c5a",
   "metadata": {},
   "outputs": [
    {
     "name": "stdout",
     "output_type": "stream",
     "text": [
      "Keeping 92.52% of the dataset\n"
     ]
    }
   ],
   "source": [
    "# Quantile Selection\n",
    "bounds = [0.0, 0.925]\n",
    "\n",
    "def quantile_selector(df, bounds):\n",
    "    df_reduced = df[df['price'].between(df['price'].quantile(bounds[0]), df['price'].quantile(bounds[1]), inclusive=True)]\n",
    "    print(f'Keeping {round(len(df_reduced)/len(df)*100,2)}% of the dataset')\n",
    "    return df_reduced\n",
    "\n",
    "df = quantile_selector(df, bounds)\n",
    "\n",
    "X = df.drop(columns='price')\n",
    "y = df['price']\n",
    "\n",
    "def NANConvert(x, threshold):\n",
    "    if x>threshold:\n",
    "        return np.nan\n",
    "    return x\n",
    "\n",
    "X['minimum_nights'] = X['minimum_nights'].apply(lambda x: NANConvert(x, 15))\n",
    "\n",
    "\n",
    "# Converting Availability 0 into median value\n",
    "def ValueConvert(x, threshold, value):\n",
    "    if x==threshold:\n",
    "        return value\n",
    "    return x\n",
    "\n",
    "median = round(np.mean(X['availability_365']))\n",
    "\n",
    "X['availability_365'] = X['availability_365'].apply(lambda x: ValueConvert(x, 0, median))\n",
    "\n",
    "\n",
    "def to_month(x):\n",
    "    if x < 30:\n",
    "        return '1'\n",
    "\n",
    "    elif 30 <= x <60:\n",
    "        return '2'\n",
    "    \n",
    "    elif 60 <= x <90:\n",
    "        return '3'\n",
    "    \n",
    "    elif 90 <= x <120:\n",
    "        return '4'\n",
    "    \n",
    "    elif 120 <= x <150:\n",
    "        return '5'\n",
    "    \n",
    "    elif 150 <= x <170:\n",
    "        return '6'\n",
    "    \n",
    "    elif 170 <= x <200:\n",
    "        return '7'\n",
    "    \n",
    "    elif 230 <= x <250:\n",
    "        return '8'\n",
    "    \n",
    "    elif 250 <= x <270:\n",
    "        return '9'\n",
    "    \n",
    "    elif 270 <= x <300:\n",
    "        return '10'\n",
    "    \n",
    "    elif 300 <= x <330:\n",
    "        return '11'\n",
    "    \n",
    "    else:\n",
    "        return '12'\n",
    "    \n",
    "X['availability_365'] = X['availability_365'].apply(to_month)"
   ]
  },
  {
   "cell_type": "code",
   "execution_count": 55,
   "id": "252f9e80",
   "metadata": {},
   "outputs": [
    {
     "data": {
      "text/html": [
       "<style>#sk-container-id-2 {color: black;background-color: white;}#sk-container-id-2 pre{padding: 0;}#sk-container-id-2 div.sk-toggleable {background-color: white;}#sk-container-id-2 label.sk-toggleable__label {cursor: pointer;display: block;width: 100%;margin-bottom: 0;padding: 0.3em;box-sizing: border-box;text-align: center;}#sk-container-id-2 label.sk-toggleable__label-arrow:before {content: \"▸\";float: left;margin-right: 0.25em;color: #696969;}#sk-container-id-2 label.sk-toggleable__label-arrow:hover:before {color: black;}#sk-container-id-2 div.sk-estimator:hover label.sk-toggleable__label-arrow:before {color: black;}#sk-container-id-2 div.sk-toggleable__content {max-height: 0;max-width: 0;overflow: hidden;text-align: left;background-color: #f0f8ff;}#sk-container-id-2 div.sk-toggleable__content pre {margin: 0.2em;color: black;border-radius: 0.25em;background-color: #f0f8ff;}#sk-container-id-2 input.sk-toggleable__control:checked~div.sk-toggleable__content {max-height: 200px;max-width: 100%;overflow: auto;}#sk-container-id-2 input.sk-toggleable__control:checked~label.sk-toggleable__label-arrow:before {content: \"▾\";}#sk-container-id-2 div.sk-estimator input.sk-toggleable__control:checked~label.sk-toggleable__label {background-color: #d4ebff;}#sk-container-id-2 div.sk-label input.sk-toggleable__control:checked~label.sk-toggleable__label {background-color: #d4ebff;}#sk-container-id-2 input.sk-hidden--visually {border: 0;clip: rect(1px 1px 1px 1px);clip: rect(1px, 1px, 1px, 1px);height: 1px;margin: -1px;overflow: hidden;padding: 0;position: absolute;width: 1px;}#sk-container-id-2 div.sk-estimator {font-family: monospace;background-color: #f0f8ff;border: 1px dotted black;border-radius: 0.25em;box-sizing: border-box;margin-bottom: 0.5em;}#sk-container-id-2 div.sk-estimator:hover {background-color: #d4ebff;}#sk-container-id-2 div.sk-parallel-item::after {content: \"\";width: 100%;border-bottom: 1px solid gray;flex-grow: 1;}#sk-container-id-2 div.sk-label:hover label.sk-toggleable__label {background-color: #d4ebff;}#sk-container-id-2 div.sk-serial::before {content: \"\";position: absolute;border-left: 1px solid gray;box-sizing: border-box;top: 0;bottom: 0;left: 50%;z-index: 0;}#sk-container-id-2 div.sk-serial {display: flex;flex-direction: column;align-items: center;background-color: white;padding-right: 0.2em;padding-left: 0.2em;position: relative;}#sk-container-id-2 div.sk-item {position: relative;z-index: 1;}#sk-container-id-2 div.sk-parallel {display: flex;align-items: stretch;justify-content: center;background-color: white;position: relative;}#sk-container-id-2 div.sk-item::before, #sk-container-id-2 div.sk-parallel-item::before {content: \"\";position: absolute;border-left: 1px solid gray;box-sizing: border-box;top: 0;bottom: 0;left: 50%;z-index: -1;}#sk-container-id-2 div.sk-parallel-item {display: flex;flex-direction: column;z-index: 1;position: relative;background-color: white;}#sk-container-id-2 div.sk-parallel-item:first-child::after {align-self: flex-end;width: 50%;}#sk-container-id-2 div.sk-parallel-item:last-child::after {align-self: flex-start;width: 50%;}#sk-container-id-2 div.sk-parallel-item:only-child::after {width: 0;}#sk-container-id-2 div.sk-dashed-wrapped {border: 1px dashed gray;margin: 0 0.4em 0.5em 0.4em;box-sizing: border-box;padding-bottom: 0.4em;background-color: white;}#sk-container-id-2 div.sk-label label {font-family: monospace;font-weight: bold;display: inline-block;line-height: 1.2em;}#sk-container-id-2 div.sk-label-container {text-align: center;}#sk-container-id-2 div.sk-container {/* jupyter's `normalize.less` sets `[hidden] { display: none; }` but bootstrap.min.css set `[hidden] { display: none !important; }` so we also need the `!important` here to be able to override the default hidden behavior on the sphinx rendered scikit-learn.org. See: https://github.com/scikit-learn/scikit-learn/issues/21755 */display: inline-block !important;position: relative;}#sk-container-id-2 div.sk-text-repr-fallback {display: none;}</style><div id=\"sk-container-id-2\" class=\"sk-top-container\"><div class=\"sk-text-repr-fallback\"><pre>Pipeline(steps=[(&#x27;preprocessing&#x27;,\n",
       "                 ColumnTransformer(transformers=[(&#x27;num_encoder&#x27;,\n",
       "                                                  Pipeline(steps=[(&#x27;simple_imputer&#x27;,\n",
       "                                                                   SimpleImputer(fill_value=1,\n",
       "                                                                                 strategy=&#x27;constant&#x27;)),\n",
       "                                                                  (&#x27;rob_scaler&#x27;,\n",
       "                                                                   RobustScaler())]),\n",
       "                                                  &lt;sklearn.compose._column_transformer.make_column_selector object at 0x000001AFA9DE30D0&gt;),\n",
       "                                                 (&#x27;cat_encoder&#x27;,\n",
       "                                                  Pipeline(steps=[(&#x27;simple_imputer&#x27;,\n",
       "                                                                   SimpleImputer(fill_value=&#x27;NA&#x27;,\n",
       "                                                                                 strategy=&#x27;constant&#x27;)),\n",
       "                                                                  (&#x27;OneHotEncoder&#x27;,\n",
       "                                                                   OneHotEncoder(handle_unknown=&#x27;ignore&#x27;,\n",
       "                                                                                 sparse=False))]),\n",
       "                                                  &lt;sklearn.compose._column_transformer.make_column_selector object at 0x000001AFA9DE3820&gt;)])),\n",
       "                (&#x27;model&#x27;, Ridge())])</pre><b>In a Jupyter environment, please rerun this cell to show the HTML representation or trust the notebook. <br />On GitHub, the HTML representation is unable to render, please try loading this page with nbviewer.org.</b></div><div class=\"sk-container\" hidden><div class=\"sk-item sk-dashed-wrapped\"><div class=\"sk-label-container\"><div class=\"sk-label sk-toggleable\"><input class=\"sk-toggleable__control sk-hidden--visually\" id=\"sk-estimator-id-10\" type=\"checkbox\" ><label for=\"sk-estimator-id-10\" class=\"sk-toggleable__label sk-toggleable__label-arrow\">Pipeline</label><div class=\"sk-toggleable__content\"><pre>Pipeline(steps=[(&#x27;preprocessing&#x27;,\n",
       "                 ColumnTransformer(transformers=[(&#x27;num_encoder&#x27;,\n",
       "                                                  Pipeline(steps=[(&#x27;simple_imputer&#x27;,\n",
       "                                                                   SimpleImputer(fill_value=1,\n",
       "                                                                                 strategy=&#x27;constant&#x27;)),\n",
       "                                                                  (&#x27;rob_scaler&#x27;,\n",
       "                                                                   RobustScaler())]),\n",
       "                                                  &lt;sklearn.compose._column_transformer.make_column_selector object at 0x000001AFA9DE30D0&gt;),\n",
       "                                                 (&#x27;cat_encoder&#x27;,\n",
       "                                                  Pipeline(steps=[(&#x27;simple_imputer&#x27;,\n",
       "                                                                   SimpleImputer(fill_value=&#x27;NA&#x27;,\n",
       "                                                                                 strategy=&#x27;constant&#x27;)),\n",
       "                                                                  (&#x27;OneHotEncoder&#x27;,\n",
       "                                                                   OneHotEncoder(handle_unknown=&#x27;ignore&#x27;,\n",
       "                                                                                 sparse=False))]),\n",
       "                                                  &lt;sklearn.compose._column_transformer.make_column_selector object at 0x000001AFA9DE3820&gt;)])),\n",
       "                (&#x27;model&#x27;, Ridge())])</pre></div></div></div><div class=\"sk-serial\"><div class=\"sk-item sk-dashed-wrapped\"><div class=\"sk-label-container\"><div class=\"sk-label sk-toggleable\"><input class=\"sk-toggleable__control sk-hidden--visually\" id=\"sk-estimator-id-11\" type=\"checkbox\" ><label for=\"sk-estimator-id-11\" class=\"sk-toggleable__label sk-toggleable__label-arrow\">preprocessing: ColumnTransformer</label><div class=\"sk-toggleable__content\"><pre>ColumnTransformer(transformers=[(&#x27;num_encoder&#x27;,\n",
       "                                 Pipeline(steps=[(&#x27;simple_imputer&#x27;,\n",
       "                                                  SimpleImputer(fill_value=1,\n",
       "                                                                strategy=&#x27;constant&#x27;)),\n",
       "                                                 (&#x27;rob_scaler&#x27;,\n",
       "                                                  RobustScaler())]),\n",
       "                                 &lt;sklearn.compose._column_transformer.make_column_selector object at 0x000001AFA9DE30D0&gt;),\n",
       "                                (&#x27;cat_encoder&#x27;,\n",
       "                                 Pipeline(steps=[(&#x27;simple_imputer&#x27;,\n",
       "                                                  SimpleImputer(fill_value=&#x27;NA&#x27;,\n",
       "                                                                strategy=&#x27;constant&#x27;)),\n",
       "                                                 (&#x27;OneHotEncoder&#x27;,\n",
       "                                                  OneHotEncoder(handle_unknown=&#x27;ignore&#x27;,\n",
       "                                                                sparse=False))]),\n",
       "                                 &lt;sklearn.compose._column_transformer.make_column_selector object at 0x000001AFA9DE3820&gt;)])</pre></div></div></div><div class=\"sk-parallel\"><div class=\"sk-parallel-item\"><div class=\"sk-item\"><div class=\"sk-label-container\"><div class=\"sk-label sk-toggleable\"><input class=\"sk-toggleable__control sk-hidden--visually\" id=\"sk-estimator-id-12\" type=\"checkbox\" ><label for=\"sk-estimator-id-12\" class=\"sk-toggleable__label sk-toggleable__label-arrow\">num_encoder</label><div class=\"sk-toggleable__content\"><pre>&lt;sklearn.compose._column_transformer.make_column_selector object at 0x000001AFA9DE30D0&gt;</pre></div></div></div><div class=\"sk-serial\"><div class=\"sk-item\"><div class=\"sk-serial\"><div class=\"sk-item\"><div class=\"sk-estimator sk-toggleable\"><input class=\"sk-toggleable__control sk-hidden--visually\" id=\"sk-estimator-id-13\" type=\"checkbox\" ><label for=\"sk-estimator-id-13\" class=\"sk-toggleable__label sk-toggleable__label-arrow\">SimpleImputer</label><div class=\"sk-toggleable__content\"><pre>SimpleImputer(fill_value=1, strategy=&#x27;constant&#x27;)</pre></div></div></div><div class=\"sk-item\"><div class=\"sk-estimator sk-toggleable\"><input class=\"sk-toggleable__control sk-hidden--visually\" id=\"sk-estimator-id-14\" type=\"checkbox\" ><label for=\"sk-estimator-id-14\" class=\"sk-toggleable__label sk-toggleable__label-arrow\">RobustScaler</label><div class=\"sk-toggleable__content\"><pre>RobustScaler()</pre></div></div></div></div></div></div></div></div><div class=\"sk-parallel-item\"><div class=\"sk-item\"><div class=\"sk-label-container\"><div class=\"sk-label sk-toggleable\"><input class=\"sk-toggleable__control sk-hidden--visually\" id=\"sk-estimator-id-15\" type=\"checkbox\" ><label for=\"sk-estimator-id-15\" class=\"sk-toggleable__label sk-toggleable__label-arrow\">cat_encoder</label><div class=\"sk-toggleable__content\"><pre>&lt;sklearn.compose._column_transformer.make_column_selector object at 0x000001AFA9DE3820&gt;</pre></div></div></div><div class=\"sk-serial\"><div class=\"sk-item\"><div class=\"sk-serial\"><div class=\"sk-item\"><div class=\"sk-estimator sk-toggleable\"><input class=\"sk-toggleable__control sk-hidden--visually\" id=\"sk-estimator-id-16\" type=\"checkbox\" ><label for=\"sk-estimator-id-16\" class=\"sk-toggleable__label sk-toggleable__label-arrow\">SimpleImputer</label><div class=\"sk-toggleable__content\"><pre>SimpleImputer(fill_value=&#x27;NA&#x27;, strategy=&#x27;constant&#x27;)</pre></div></div></div><div class=\"sk-item\"><div class=\"sk-estimator sk-toggleable\"><input class=\"sk-toggleable__control sk-hidden--visually\" id=\"sk-estimator-id-17\" type=\"checkbox\" ><label for=\"sk-estimator-id-17\" class=\"sk-toggleable__label sk-toggleable__label-arrow\">OneHotEncoder</label><div class=\"sk-toggleable__content\"><pre>OneHotEncoder(handle_unknown=&#x27;ignore&#x27;, sparse=False)</pre></div></div></div></div></div></div></div></div></div></div><div class=\"sk-item\"><div class=\"sk-estimator sk-toggleable\"><input class=\"sk-toggleable__control sk-hidden--visually\" id=\"sk-estimator-id-18\" type=\"checkbox\" ><label for=\"sk-estimator-id-18\" class=\"sk-toggleable__label sk-toggleable__label-arrow\">Ridge</label><div class=\"sk-toggleable__content\"><pre>Ridge()</pre></div></div></div></div></div></div></div>"
      ],
      "text/plain": [
       "Pipeline(steps=[('preprocessing',\n",
       "                 ColumnTransformer(transformers=[('num_encoder',\n",
       "                                                  Pipeline(steps=[('simple_imputer',\n",
       "                                                                   SimpleImputer(fill_value=1,\n",
       "                                                                                 strategy='constant')),\n",
       "                                                                  ('rob_scaler',\n",
       "                                                                   RobustScaler())]),\n",
       "                                                  <sklearn.compose._column_transformer.make_column_selector object at 0x000001AFA9DE30D0>),\n",
       "                                                 ('cat_encoder',\n",
       "                                                  Pipeline(steps=[('simple_imputer',\n",
       "                                                                   SimpleImputer(fill_value='NA',\n",
       "                                                                                 strategy='constant')),\n",
       "                                                                  ('OneHotEncoder',\n",
       "                                                                   OneHotEncoder(handle_unknown='ignore',\n",
       "                                                                                 sparse=False))]),\n",
       "                                                  <sklearn.compose._column_transformer.make_column_selector object at 0x000001AFA9DE3820>)])),\n",
       "                ('model', Ridge())])"
      ]
     },
     "execution_count": 55,
     "metadata": {},
     "output_type": "execute_result"
    }
   ],
   "source": [
    "\n",
    "from sklearn.svm import SVR\n",
    "\n",
    "num_encoder = Pipeline([('simple_imputer', SimpleImputer(strategy = 'constant', fill_value=1)),\n",
    "                        ('rob_scaler', RobustScaler())])\n",
    "\n",
    "cat_encoder = Pipeline([('simple_imputer', SimpleImputer(strategy = 'constant', fill_value='NA')),\n",
    "                        ('OneHotEncoder', OneHotEncoder(sparse=False, handle_unknown='ignore'))])\n",
    "\n",
    "\n",
    "preproc = ColumnTransformer([('num_encoder', num_encoder, make_column_selector(dtype_include=['int64','float64'])),\n",
    "                             ('cat_encoder', cat_encoder , make_column_selector(dtype_include=['object']))\n",
    "                              ])\n",
    "\n",
    "baseline_pipe = Pipeline([('preprocessing', preproc),\n",
    "                          ('model', Ridge())\n",
    "                        ])\n",
    "baseline_pipe"
   ]
  },
  {
   "cell_type": "code",
   "execution_count": 56,
   "id": "ffe94c81",
   "metadata": {},
   "outputs": [
    {
     "data": {
      "text/plain": [
       "0.22335561204416568"
      ]
     },
     "execution_count": 56,
     "metadata": {},
     "output_type": "execute_result"
    }
   ],
   "source": [
    "\n",
    "baseline_score = cross_val_score(baseline_pipe, X, y, cv=5).mean()\n",
    "baseline_score"
   ]
  },
  {
   "cell_type": "code",
   "execution_count": null,
   "id": "552b2729",
   "metadata": {},
   "outputs": [],
   "source": []
  },
  {
   "cell_type": "code",
   "execution_count": null,
   "id": "932242bf",
   "metadata": {},
   "outputs": [],
   "source": []
  },
  {
   "cell_type": "code",
   "execution_count": null,
   "id": "efc39778",
   "metadata": {},
   "outputs": [],
   "source": []
  },
  {
   "cell_type": "code",
   "execution_count": null,
   "id": "b65fc2d0",
   "metadata": {},
   "outputs": [],
   "source": []
  },
  {
   "cell_type": "code",
   "execution_count": null,
   "id": "1e62ac6d",
   "metadata": {},
   "outputs": [],
   "source": []
  },
  {
   "cell_type": "code",
   "execution_count": null,
   "id": "949d3cab",
   "metadata": {},
   "outputs": [],
   "source": []
  },
  {
   "cell_type": "code",
   "execution_count": null,
   "id": "5250028c",
   "metadata": {},
   "outputs": [],
   "source": []
  },
  {
   "cell_type": "code",
   "execution_count": null,
   "id": "f4325dd5",
   "metadata": {},
   "outputs": [],
   "source": []
  }
 ],
 "metadata": {
  "kernelspec": {
   "display_name": "Python 3",
   "language": "python",
   "name": "python3"
  },
  "language_info": {
   "codemirror_mode": {
    "name": "ipython",
    "version": 3
   },
   "file_extension": ".py",
   "mimetype": "text/x-python",
   "name": "python",
   "nbconvert_exporter": "python",
   "pygments_lexer": "ipython3",
   "version": "3.8.8"
  },
  "toc": {
   "base_numbering": 1,
   "nav_menu": {},
   "number_sections": true,
   "sideBar": true,
   "skip_h1_title": false,
   "title_cell": "Table of Contents",
   "title_sidebar": "Contents",
   "toc_cell": false,
   "toc_position": {},
   "toc_section_display": true,
   "toc_window_display": false
  }
 },
 "nbformat": 4,
 "nbformat_minor": 5
}
