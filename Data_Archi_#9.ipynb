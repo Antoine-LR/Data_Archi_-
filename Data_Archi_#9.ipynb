{
 "cells": [
  {
   "cell_type": "markdown",
   "id": "95fd05ac",
   "metadata": {},
   "source": [
    "## Scapping TripAd"
   ]
  },
  {
   "cell_type": "code",
   "execution_count": 1,
   "id": "932242bf",
   "metadata": {},
   "outputs": [],
   "source": [
    "import requests\n",
    "from bs4 import BeautifulSoup as soup"
   ]
  },
  {
   "cell_type": "code",
   "execution_count": null,
   "id": "efc39778",
   "metadata": {},
   "outputs": [],
   "source": [
    "html= requests.get('https://www.tripadvisor.in/Hotels-g187147-Paris_Ile_de_France-Hotels.html')\n",
    "html.status_code"
   ]
  },
  {
   "cell_type": "code",
   "execution_count": null,
   "id": "b65fc2d0",
   "metadata": {},
   "outputs": [],
   "source": [
    "bsobj = soup(html.content,'lxml')"
   ]
  },
  {
   "cell_type": "code",
   "execution_count": null,
   "id": "1e62ac6d",
   "metadata": {},
   "outputs": [],
   "source": [
    "hotel = []\n",
    "for name in bsobj.findAll('div',{'class': 'listing_title'}):\n",
    "    hotel.append(name.text.strip())\n",
    "    \n",
    "hotel"
   ]
  },
  {
   "cell_type": "code",
   "execution_count": null,
   "id": "6b5673a3",
   "metadata": {},
   "outputs": [],
   "source": [
    "ratings = []\n",
    "for rating in bsobj.findAll('a',{'class': 'ui_buble_rating'}):\n",
    "    ratings.append(rating['alt'])\n",
    "    \n",
    "ratings "
   ]
  },
  {
   "cell_type": "code",
   "execution_count": null,
   "id": "949d3cab",
   "metadata": {},
   "outputs": [],
   "source": [
    "reviews = []\n",
    "for review in bsobj.findAll('a',{'class': 'review_count'}):\n",
    "    reviews.append(review.text.strip())\n",
    "    \n",
    "reviews"
   ]
  },
  {
   "cell_type": "code",
   "execution_count": null,
   "id": "5250028c",
   "metadata": {},
   "outputs": [],
   "source": [
    "price = []\n",
    "for p in bsobj.findAll('div',{'class': 'price-wrap'}):\n",
    "    price.append(p.text.strip())\n",
    "    \n",
    "price[:5]"
   ]
  },
  {
   "cell_type": "code",
   "execution_count": null,
   "id": "f4325dd5",
   "metadata": {},
   "outputs": [],
   "source": [
    "len(price)"
   ]
  },
  {
   "cell_type": "code",
   "execution_count": null,
   "id": "3c79efe4",
   "metadata": {},
   "outputs": [],
   "source": [
    "d1= {'Hotel': hotel, 'Ratings': ratings, 'No_of_reviews':reviews, 'Price':price}"
   ]
  },
  {
   "cell_type": "code",
   "execution_count": null,
   "id": "5eef7ec9",
   "metadata": {},
   "outputs": [],
   "source": [
    "import pandas as pd"
   ]
  },
  {
   "cell_type": "code",
   "execution_count": null,
   "id": "c461d2b4",
   "metadata": {},
   "outputs": [],
   "source": [
    "df = pd.DataFrame.from_dict(d1)\n",
    "df"
   ]
  },
  {
   "cell_type": "code",
   "execution_count": null,
   "id": "5f57ded1",
   "metadata": {},
   "outputs": [],
   "source": []
  }
 ],
 "metadata": {
  "kernelspec": {
   "display_name": "Python 3",
   "language": "python",
   "name": "python3"
  },
  "language_info": {
   "codemirror_mode": {
    "name": "ipython",
    "version": 3
   },
   "file_extension": ".py",
   "mimetype": "text/x-python",
   "name": "python",
   "nbconvert_exporter": "python",
   "pygments_lexer": "ipython3",
   "version": "3.8.8"
  },
  "toc": {
   "base_numbering": 1,
   "nav_menu": {},
   "number_sections": true,
   "sideBar": true,
   "skip_h1_title": false,
   "title_cell": "Table of Contents",
   "title_sidebar": "Contents",
   "toc_cell": false,
   "toc_position": {},
   "toc_section_display": true,
   "toc_window_display": false
  }
 },
 "nbformat": 4,
 "nbformat_minor": 5
}
