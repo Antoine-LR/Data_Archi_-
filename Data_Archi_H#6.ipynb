{
 "cells": [
  {
   "cell_type": "markdown",
   "id": "95fd05ac",
   "metadata": {},
   "source": [
    "## Modeling\n",
    "Preprocess:\n",
    "\n",
    "Missing Value\n",
    "One Hot Encoding\n",
    "Binary Encoding\n",
    "TfIdf\n",
    "Count Vectorizer# Study case: Hotel Bookings"
   ]
  },
  {
   "cell_type": "code",
   "execution_count": null,
   "id": "8092f461",
   "metadata": {},
   "outputs": [],
   "source": [
    "host = ['host_since_duration int','host_is_superhost',\n",
    "        'host_neighbourhood','host_total_listings_count',\n",
    "        'host_has_profile_pic','host_identity_verified',\n",
    "        'calculated_host_listings_count','calculated_host_listings_count_entire_homes',\n",
    "        'calculated_host_listings_count_private_rooms','calculated_host_listings_count_shared_rooms']\n",
    "\n",
    "location = ['neighbourhood_cleansed','neighbourhood_group_cleansed','latitude','longitude']\n",
    "\n",
    "Types = ['property_type new','room_type','bed_type']\n",
    "\n",
    "guest_people = ['guests_included','extra_people']\n",
    "\n",
    "maximum_minimum = ['minimum_nights','maximum_nights','minimum_minimum_nights','maximum_minimum_nights',\n",
    "                   'minimum_maximum_nights','maximum_maximum_nights','minimum_nights_avg_ntm','maximum_nights_avg_ntm']\n",
    "\n",
    "availability = ['availability_30','availability_60','availability_90','availability_365']\n",
    "\n",
    "reviews = ['first_review_duration int','first_review_duration int','review_scores_rating','review_scores_accuracy',\n",
    "           'review_scores_cleanliness','review_scores_checkin','review_scores_communication',\n",
    "           'review_scores_location','review_scores_value']\n",
    "\n",
    "text = ['description10','amenities new']\n",
    "\n",
    "var = host + location + Types + guest_people + maximum_minimum + availability + reviews"
   ]
  },
  {
   "cell_type": "code",
   "execution_count": null,
   "id": "02a9c290",
   "metadata": {},
   "outputs": [],
   "source": [
    "air_bnb[text].isnull().sum()"
   ]
  },
  {
   "cell_type": "code",
   "execution_count": null,
   "id": "b907ce17",
   "metadata": {},
   "outputs": [],
   "source": [
    "air_bnb[var].describe()"
   ]
  },
  {
   "cell_type": "code",
   "execution_count": null,
   "id": "0aa8ab8a",
   "metadata": {},
   "outputs": [],
   "source": [
    "air_bnb[var].describe(include = object)"
   ]
  },
  {
   "cell_type": "code",
   "execution_count": null,
   "id": "6ac1980c",
   "metadata": {},
   "outputs": [],
   "source": [
    "air_bnb_prep = air_bnb[(air_bnb['price'] != 0)&(air_bnb['price'] < 500)]"
   ]
  },
  {
   "cell_type": "code",
   "execution_count": null,
   "id": "9d763c39",
   "metadata": {},
   "outputs": [],
   "source": [
    "binary_encoder_pipeline = Pipeline([\n",
    "                                    ('imputer',SimpleImputer(strategy = 'constant',fill_value = 'NC')),\n",
    "                                    ('binary encoder',ce.BinaryEncoder())\n",
    "])\n",
    "\n",
    "one_hot_encoder_pipeline = Pipeline([\n",
    "                                    ('imputer',SimpleImputer(strategy = 'constant',fill_value = 'NC')),\n",
    "                                    ('one hot encoder',OneHotEncoder(handle_unknown='error'))\n",
    "])\n",
    "\n",
    "text_pipeline = Pipeline([\n",
    "                                    ('tfidf',TfidfVectorizer())\n",
    "])\n",
    "\n",
    "tags_pipeline = Pipeline([\n",
    "                                    ('countvectorizer',CountVectorizer())\n",
    "])\n",
    "\n",
    "numeric_pipeline = Pipeline([\n",
    "                                    ('imputer',SimpleImputer(strategy = 'median'))\n",
    "])\n",
    "\n",
    "reviews_pipeline = Pipeline([\n",
    "                                    ('imputer',SimpleImputer(strategy = 'constant',fill_value = -1))\n",
    "])\n",
    "\n",
    "binary_feature = ['host_is_superhost','host_has_profile_pic','host_identity_verified','neighbourhood_cleansed new','property_type new']\n",
    "one_hot_feature = ['host_neighbourhood','neighbourhood_group_cleansed','room_type','bed_type']\n",
    "numeric_feature = ['host_since_duration int','host_total_listings_count','calculated_host_listings_count',\n",
    "                   'calculated_host_listings_count_entire_homes','calculated_host_listings_count_private_rooms',\n",
    "                   'calculated_host_listings_count_shared_rooms',\n",
    "                   'latitude','longitude',\n",
    "                   'guests_included','extra_people',\n",
    "                   'minimum_nights','maximum_nights','minimum_minimum_nights','maximum_minimum_nights',\n",
    "                   'minimum_maximum_nights','maximum_maximum_nights','minimum_nights_avg_ntm','maximum_nights_avg_ntm',\n",
    "                   'availability_30','availability_60','availability_90','availability_365']\n",
    "reviews_feature = ['review_scores_rating','review_scores_accuracy',\n",
    "                   'review_scores_cleanliness','review_scores_checkin','review_scores_communication',\n",
    "                   'review_scores_location','review_scores_value']\n",
    "text = ['description10','amenities new']\n",
    "\n",
    "\n",
    "transformer = ColumnTransformer([\n",
    "                                 ('one hot encoder', one_hot_encoder_pipeline, binary_feature),\n",
    "                                 ('binary encoder', binary_encoder_pipeline, one_hot_feature),\n",
    "                                 ('numerical', numeric_pipeline, numeric_feature),\n",
    "                                 ('reviews', reviews_pipeline, reviews_feature),\n",
    "                                 ('text',TfidfVectorizer(),'description10'),\n",
    "                                 ('tags',CountVectorizer(),'amenities new')\n",
    "                                ])"
   ]
  },
  {
   "cell_type": "code",
   "execution_count": null,
   "id": "fb18cdd7",
   "metadata": {},
   "outputs": [],
   "source": [
    "print('number of features used',len(binary_feature+one_hot_feature+numeric_feature+reviews_feature))"
   ]
  },
  {
   "cell_type": "markdown",
   "id": "225871b2",
   "metadata": {},
   "source": [
    "## Data Splitting"
   ]
  },
  {
   "cell_type": "code",
   "execution_count": null,
   "id": "8500b055",
   "metadata": {},
   "outputs": [],
   "source": [
    "X = air_bnb_prep\n",
    "y = air_bnb_prep['price']"
   ]
  },
  {
   "cell_type": "code",
   "execution_count": null,
   "id": "28030456",
   "metadata": {},
   "outputs": [],
   "source": [
    "X_train_val, X_test, y_train_val, y_test = train_test_split(\n",
    "    X,\n",
    "    y,\n",
    "    random_state = 42)"
   ]
  },
  {
   "cell_type": "markdown",
   "id": "2303d5aa",
   "metadata": {},
   "source": [
    "## Modeling Benchmark"
   ]
  },
  {
   "cell_type": "code",
   "execution_count": null,
   "id": "a6c7f264",
   "metadata": {},
   "outputs": [],
   "source": [
    "transformer.fit(X_train_val)\n",
    "X_train_val_preprocessed = transformer.transform(X_train_val)\n",
    "X_test_preprocessed = transformer.transform(X_test)"
   ]
  },
  {
   "cell_type": "code",
   "execution_count": null,
   "id": "aa94b36c",
   "metadata": {},
   "outputs": [],
   "source": [
    "model = XGBRegressor(    \n",
    "    n_estimators = 200,\n",
    "    learning_rate = 0.1,\n",
    "    max_depth = 3,\n",
    "    random_state = 42\n",
    ")"
   ]
  },
  {
   "cell_type": "code",
   "execution_count": null,
   "id": "3e1f2eca",
   "metadata": {},
   "outputs": [],
   "source": [
    "model.fit(X_train_val_preprocessed, y_train_val)"
   ]
  },
  {
   "cell_type": "code",
   "execution_count": null,
   "id": "54bf0f85",
   "metadata": {},
   "outputs": [],
   "source": [
    "y_pred = model.predict(X_test_preprocessed)"
   ]
  },
  {
   "cell_type": "code",
   "execution_count": null,
   "id": "b320933f",
   "metadata": {},
   "outputs": [],
   "source": [
    "def evaluation(model, X_train, X_test, y_train, y_test):\n",
    "    y_pred_test = model.predict(X_test)\n",
    "    y_pred_train = model.predict(X_train)\n",
    "    print('R2 test:',r2_score(y_test, y_pred_test))\n",
    "    print('R2 train',r2_score(y_train, y_pred_train))\n",
    "    sns.scatterplot(y_pred,y_test - y_pred)"
   ]
  },
  {
   "cell_type": "code",
   "execution_count": null,
   "id": "f7c26c5e",
   "metadata": {},
   "outputs": [],
   "source": [
    "evaluation(model, X_train_val_preprocessed, X_test_preprocessed, y_train_val, y_test)"
   ]
  },
  {
   "cell_type": "markdown",
   "id": "a9096130",
   "metadata": {},
   "source": [
    "## Model Selection"
   ]
  },
  {
   "cell_type": "code",
   "execution_count": null,
   "id": "8ccc24c5",
   "metadata": {},
   "outputs": [],
   "source": [
    "model_tree = DecisionTreeRegressor(max_depth = 3)\n",
    "\n",
    "model_ada = AdaBoostRegressor(\n",
    "    model_tree,\n",
    "    n_estimators = 200,\n",
    "    learning_rate = 0.1,\n",
    "    random_state = 10\n",
    ")\n",
    "\n",
    "model_rf = RandomForestRegressor(    \n",
    "    n_estimators = 200,\n",
    "    max_depth = 3,\n",
    "    random_state = 42\n",
    ")\n",
    "\n",
    "model_gbc = GradientBoostingRegressor(    \n",
    "    n_estimators = 200,\n",
    "    learning_rate = 0.1,\n",
    "    max_depth = 3,\n",
    "    random_state = 42\n",
    ")\n",
    "\n",
    "model_xgb = XGBRegressor(    \n",
    "    n_estimators = 200,\n",
    "    learning_rate = 0.1,\n",
    "    max_depth = 3,\n",
    "    random_state = 42\n",
    ")\n",
    "\n",
    "estimator = Pipeline([\n",
    "                      ('preprocess',transformer),\n",
    "                      ('clf',model)                 \n",
    "])\n",
    "\n",
    "\n",
    "hyperparam_space = {\n",
    "    'clf':[model_tree, model_rf, model_ada, model_gbc, model_xgb]\n",
    "}\n",
    "\n",
    "grid_search = GridSearchCV(\n",
    "    estimator, # model to tune\n",
    "    param_grid = hyperparam_space, # hyperparameter space\n",
    "#     cv = skfold, # evaluation method\n",
    "    scoring = 'r2', # metrics\n",
    "    n_jobs = -1 # use all cores\n",
    ")"
   ]
  },
  {
   "cell_type": "code",
   "execution_count": null,
   "id": "100898a2",
   "metadata": {},
   "outputs": [],
   "source": [
    "grid_search.fit(X_train_val, y_train_val)"
   ]
  },
  {
   "cell_type": "code",
   "execution_count": null,
   "id": "27b1612c",
   "metadata": {},
   "outputs": [],
   "source": [
    "print('best score',grid_search.best_score_)\n",
    "print('best param',grid_search.best_params_)"
   ]
  },
  {
   "cell_type": "code",
   "execution_count": null,
   "id": "75e29d5d",
   "metadata": {},
   "outputs": [],
   "source": [
    "cv_result_df = pd.DataFrame(grid_search.cv_results_)"
   ]
  },
  {
   "cell_type": "code",
   "execution_count": null,
   "id": "4cf872ec",
   "metadata": {},
   "outputs": [],
   "source": [
    "cv_result_df['mean_test_score'] = cv_result_df['mean_test_score']*100 \n",
    "cv_result_df[['param_clf','mean_test_score']]"
   ]
  },
  {
   "cell_type": "code",
   "execution_count": null,
   "id": "90329d1e",
   "metadata": {},
   "outputs": [],
   "source": [
    "cv_result_df[['mean_test_score']].to_csv('model.csv')"
   ]
  },
  {
   "cell_type": "markdown",
   "id": "22761ae9",
   "metadata": {},
   "source": [
    "## Hyperparameter Tuning for The Selected Model"
   ]
  },
  {
   "cell_type": "code",
   "execution_count": null,
   "id": "8fb4fa12",
   "metadata": {},
   "outputs": [],
   "source": [
    "model_xgb = XGBRegressor(    \n",
    "    n_estimators = 200,\n",
    "    learning_rate = 0.1,\n",
    "    max_depth = 3,\n",
    "    random_state = 42\n",
    ")\n",
    "\n",
    "estimator = Pipeline([\n",
    "                      ('preprocess',transformer),\n",
    "                      ('clf',model)                 \n",
    "])\n",
    "\n",
    "hyperparam_space = [\n",
    "                    {'clf__learning_rate':[0.1],'clf__n_estimators':[200],'clf__max_depth':[3,4,5]},\n",
    "                    {'clf__learning_rate':[0.05],'clf__n_estimators':[400],'clf__max_depth':[3,4,5]},\n",
    "                    {'clf__learning_rate':[0.01],'clf__n_estimators':[2000],'clf__max_depth':[3,4,5]},\n",
    "                    {'clf__learning_rate':[0.005],'clf__n_estimators':[4000],'clf__max_depth':[3,4,5]}\n",
    "]\n",
    "\n",
    "grid_search_xgb = GridSearchCV(\n",
    "    estimator, # model to tune\n",
    "    param_grid = hyperparam_space, # hyperparameter space\n",
    "#     cv = skfold, # evaluation method\n",
    "    scoring = 'r2', # metrics\n",
    "    n_jobs = -1 # use all cores\n",
    ")"
   ]
  },
  {
   "cell_type": "code",
   "execution_count": null,
   "id": "a3049283",
   "metadata": {},
   "outputs": [],
   "source": [
    "grid_search_xgb.fit(X_train_val, y_train_val)"
   ]
  },
  {
   "cell_type": "code",
   "execution_count": null,
   "id": "09c2f927",
   "metadata": {},
   "outputs": [],
   "source": [
    "print('best score',grid_search_xgb.best_score_)\n",
    "print('best param',grid_search_xgb.best_params_)"
   ]
  },
  {
   "cell_type": "markdown",
   "id": "3845ce65",
   "metadata": {},
   "source": [
    "## Comparison Before After Hyperparameter Tuning"
   ]
  },
  {
   "cell_type": "code",
   "execution_count": null,
   "id": "f42f434e",
   "metadata": {},
   "outputs": [],
   "source": [
    "model_xgb = XGBRegressor(    \n",
    "    n_estimators = 200,\n",
    "    learning_rate = 0.1,\n",
    "    max_depth = 3,\n",
    "    random_state = 42\n",
    ")\n",
    "\n",
    "estimator = Pipeline([\n",
    "                      ('preprocess',transformer),\n",
    "                      ('clf',model)                 \n",
    "])"
   ]
  },
  {
   "cell_type": "code",
   "execution_count": null,
   "id": "ac190a27",
   "metadata": {},
   "outputs": [],
   "source": [
    "estimator.fit(X_train_val, y_train_val)"
   ]
  },
  {
   "cell_type": "code",
   "execution_count": null,
   "id": "4205f4c4",
   "metadata": {},
   "outputs": [],
   "source": [
    "evaluation(estimator, X_train_val, X_test, y_train_val, y_test)"
   ]
  },
  {
   "cell_type": "code",
   "execution_count": null,
   "id": "3825b7d9",
   "metadata": {},
   "outputs": [],
   "source": [
    "grid_search_xgb.best_estimator_.fit(X_train_val, y_train_val)"
   ]
  },
  {
   "cell_type": "code",
   "execution_count": null,
   "id": "c7313504",
   "metadata": {},
   "outputs": [],
   "source": [
    "evaluation(grid_search_xgb.best_estimator_, X_train_val, X_test, y_train_val, y_test)"
   ]
  },
  {
   "cell_type": "markdown",
   "id": "48e6f924",
   "metadata": {},
   "source": [
    "## Final Model Evaluation"
   ]
  },
  {
   "cell_type": "code",
   "execution_count": null,
   "id": "cc58dcba",
   "metadata": {},
   "outputs": [],
   "source": [
    "grid_search_xgb.best_estimator_.fit(X,y)"
   ]
  },
  {
   "cell_type": "code",
   "execution_count": null,
   "id": "71698745",
   "metadata": {},
   "outputs": [],
   "source": [
    "air_bnb_stay = air_bnb[air_bnb['availablity_22_30 indicator'] == 0]\n",
    "air_bnb_lower = air_bnb[air_bnb['availablity_22_30 indicator'] == 1]"
   ]
  },
  {
   "cell_type": "code",
   "execution_count": null,
   "id": "1ea4d5f7",
   "metadata": {},
   "outputs": [],
   "source": [
    "air_bnb_lower['minimum_nights'].value_counts()"
   ]
  },
  {
   "cell_type": "code",
   "execution_count": null,
   "id": "3196ae77",
   "metadata": {},
   "outputs": [],
   "source": [
    "air_bnb_lower['minimum_nights'] = np.where(air_bnb_lower['minimum_nights'] > 10,\n",
    "                                           air_bnb_lower['minimum_nights'] - 3,\n",
    "                                           air_bnb_lower['minimum_nights']) "
   ]
  },
  {
   "cell_type": "code",
   "execution_count": null,
   "id": "704ddc5d",
   "metadata": {},
   "outputs": [],
   "source": [
    "air_bnb_lower['availability_30'] = air_bnb_lower['availability_30'] - 10\n",
    "air_bnb_lower['availability_30'].value_counts()"
   ]
  },
  {
   "cell_type": "code",
   "execution_count": null,
   "id": "1b8c19a9",
   "metadata": {},
   "outputs": [],
   "source": [
    "price_min = air_bnb_lower['price']*0.8\n",
    "air_bnb_lower['price'] = grid_search_xgb.best_estimator_.predict(air_bnb_lower)\n",
    "air_bnb_lower['price'] = np.where(air_bnb_lower['price']<price_min, price_min,air_bnb_lower['price'])"
   ]
  },
  {
   "cell_type": "code",
   "execution_count": null,
   "id": "facd2dbc",
   "metadata": {},
   "outputs": [],
   "source": [
    "air_bnb_new = air_bnb_stay.append(air_bnb_lower)"
   ]
  },
  {
   "cell_type": "code",
   "execution_count": null,
   "id": "250db0ec",
   "metadata": {},
   "outputs": [],
   "source": [
    "current_omzet_30 = np.sum(air_bnb_new ['price']*(30-air_bnb_new ['availability_30']))\n",
    "print(current_omzet_30)"
   ]
  },
  {
   "cell_type": "code",
   "execution_count": null,
   "id": "26e3e08e",
   "metadata": {},
   "outputs": [],
   "source": [
    "max_omzet_30 = np.sum(air_bnb_new['price']*30)\n",
    "print(max_omzet_30)"
   ]
  },
  {
   "cell_type": "code",
   "execution_count": null,
   "id": "964c377d",
   "metadata": {},
   "outputs": [],
   "source": [
    "print(current_omzet_30*100/max_omzet_30)"
   ]
  },
  {
   "cell_type": "code",
   "execution_count": null,
   "id": "cf8b5192",
   "metadata": {},
   "outputs": [],
   "source": [
    "labels = 'Current Potential Income','Current Loss Income'\n",
    "sizes = [current_omzet_30,max_omzet_30-current_omzet_30]\n",
    "explode = (0, 0.1)\n",
    "\n",
    "fig1, ax1 = plt.subplots()\n",
    "ax1.pie(sizes, explode=explode, labels=labels, autopct='%1.1f%%',\n",
    "        shadow=True, startangle=90)\n",
    "ax1.axis('equal')  # Equal aspect ratio ensures that pie is drawn as a circle.\n",
    "\n",
    "plt.show()"
   ]
  },
  {
   "cell_type": "code",
   "execution_count": null,
   "id": "60e4027d",
   "metadata": {},
   "outputs": [],
   "source": []
  },
  {
   "cell_type": "code",
   "execution_count": null,
   "id": "181b4acc",
   "metadata": {},
   "outputs": [],
   "source": []
  },
  {
   "cell_type": "code",
   "execution_count": null,
   "id": "fcd24878",
   "metadata": {},
   "outputs": [],
   "source": []
  },
  {
   "cell_type": "code",
   "execution_count": null,
   "id": "cc492a1f",
   "metadata": {},
   "outputs": [],
   "source": []
  }
 ],
 "metadata": {
  "kernelspec": {
   "display_name": "Python 3",
   "language": "python",
   "name": "python3"
  },
  "language_info": {
   "codemirror_mode": {
    "name": "ipython",
    "version": 3
   },
   "file_extension": ".py",
   "mimetype": "text/x-python",
   "name": "python",
   "nbconvert_exporter": "python",
   "pygments_lexer": "ipython3",
   "version": "3.8.8"
  },
  "toc": {
   "base_numbering": 1,
   "nav_menu": {},
   "number_sections": true,
   "sideBar": true,
   "skip_h1_title": false,
   "title_cell": "Table of Contents",
   "title_sidebar": "Contents",
   "toc_cell": false,
   "toc_position": {},
   "toc_section_display": true,
   "toc_window_display": false
  }
 },
 "nbformat": 4,
 "nbformat_minor": 5
}
