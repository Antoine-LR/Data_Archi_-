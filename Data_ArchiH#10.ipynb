{
 "cells": [
  {
   "cell_type": "markdown",
   "id": "95fd05ac",
   "metadata": {},
   "source": [
    "## Scapping "
   ]
  },
  {
   "cell_type": "code",
   "execution_count": 1,
   "id": "932242bf",
   "metadata": {},
   "outputs": [],
   "source": [
    "import requests\n",
    "from bs4 import BeautifulSoup as soup\n",
    "import time"
   ]
  },
  {
   "cell_type": "code",
   "execution_count": null,
   "id": "08a3fcd7",
   "metadata": {},
   "outputs": [],
   "source": [
    "with open('urls.txt','r') as inf:\n",
    "    with open('pays.csv','w') as outf:\n",
    "        outf.write('pays,population\\n')\n",
    "        for row in inf:\n",
    "            url=row.strip()\n",
    "            response=request.get(url)\n",
    "            if reponse.ok\n",
    "            soup=BeautifulSoup(response.text, 'lxml')\n",
    "            country = soup.find('tr', {'id':'places_country__row'}).find('td', {'class':'w2p_fw'})\n",
    "            pop = soup.find('tr', {'id':'places_population__row'}).find('td', {'class':'w2p_fw'})\n",
    "            print('Pays:'+ country.text + ', Pop :' + pop.text)\n",
    "            outf.write(country.text + ',' + pop.text + '\\n')\n",
    "        time.sleep(3)"
   ]
  }
 ],
 "metadata": {
  "kernelspec": {
   "display_name": "Python 3",
   "language": "python",
   "name": "python3"
  },
  "language_info": {
   "codemirror_mode": {
    "name": "ipython",
    "version": 3
   },
   "file_extension": ".py",
   "mimetype": "text/x-python",
   "name": "python",
   "nbconvert_exporter": "python",
   "pygments_lexer": "ipython3",
   "version": "3.8.8"
  },
  "toc": {
   "base_numbering": 1,
   "nav_menu": {},
   "number_sections": true,
   "sideBar": true,
   "skip_h1_title": false,
   "title_cell": "Table of Contents",
   "title_sidebar": "Contents",
   "toc_cell": false,
   "toc_position": {},
   "toc_section_display": true,
   "toc_window_display": false
  }
 },
 "nbformat": 4,
 "nbformat_minor": 5
}
